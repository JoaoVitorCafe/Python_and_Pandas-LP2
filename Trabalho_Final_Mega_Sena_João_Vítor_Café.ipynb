{
  "nbformat": 4,
  "nbformat_minor": 0,
  "metadata": {
    "colab": {
      "name": "Trabalho Final - Mega-Sena - João Vítor Café",
      "provenance": [],
      "collapsed_sections": []
    },
    "kernelspec": {
      "name": "python3",
      "display_name": "Python 3"
    },
    "language_info": {
      "name": "python"
    }
  },
  "cells": [
    {
      "cell_type": "code",
      "metadata": {
        "colab": {
          "resources": {
            "http://localhost:8080/nbextensions/google.colab/files.js": {
              "data": "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",
              "ok": true,
              "headers": [
                [
                  "content-type",
                  "application/javascript"
                ]
              ],
              "status": 200,
              "status_text": ""
            }
          },
          "base_uri": "https://localhost:8080/",
          "height": 74
        },
        "id": "NcW9hp916pT9",
        "outputId": "8f39c275-03f8-4804-8c02-155356fbe46c"
      },
      "source": [
        "import pandas as pd\n",
        "import numpy as np\n",
        "import random\n",
        "from datetime import date, time, datetime\n",
        "from google.colab import files\n",
        "pd.options.display.float_format = '{:.2f}'.format # Formatar todos os números dos datasets para terem apenas duas casas decimais\n",
        "uploaded = files.upload()"
      ],
      "execution_count": null,
      "outputs": [
        {
          "output_type": "display_data",
          "data": {
            "text/html": [
              "\n",
              "     <input type=\"file\" id=\"files-48c707bb-92e2-4b5d-9ec6-4876bf7f0e82\" name=\"files[]\" multiple disabled\n",
              "        style=\"border:none\" />\n",
              "     <output id=\"result-48c707bb-92e2-4b5d-9ec6-4876bf7f0e82\">\n",
              "      Upload widget is only available when the cell has been executed in the\n",
              "      current browser session. Please rerun this cell to enable.\n",
              "      </output>\n",
              "      <script src=\"/nbextensions/google.colab/files.js\"></script> "
            ],
            "text/plain": [
              "<IPython.core.display.HTML object>"
            ]
          },
          "metadata": {}
        },
        {
          "output_type": "stream",
          "name": "stdout",
          "text": [
            "Saving MegaSenaAtualizada.xlsx to MegaSenaAtualizada (1).xlsx\n"
          ]
        }
      ]
    },
    {
      "cell_type": "code",
      "metadata": {
        "id": "iA2MuJb6ZBq5"
      },
      "source": [
        "class Data:\n",
        "  def __init__(self, file):\n",
        "    self._file = file\n",
        "\n",
        "  def TotalData(self):\n",
        "  #Retorna todos os dados do arquivo excel\n",
        "    dataFile = pd.read_excel(f'{self.file}')\n",
        "    return dataFile\n",
        "\n",
        "  def HandleData(self):\n",
        "  # Retorna os dados que serão utilizados do arquivo excel , sem as colunas de Cidade , Estado , Observação , Local e campos NaN\n",
        "    dataFrame = self.TotalData().drop(columns = ['Cidade' , 'Estado' , 'Observação' , 'Local'])\n",
        "    return dataFrame.dropna()\n",
        "     \n",
        "  def Year2021(self):\n",
        "  # Retorna todos os dados tratados que são equivalentes ao ano de 2021\n",
        "    data2021 = self.HandleData().loc[(self.HandleData()['Data do Sorteio'].dt.year) == 2021]\n",
        "    return data2021\n",
        "\n",
        "  @property\n",
        "  def file(self):\n",
        "    return self._file\n",
        "  #Retorna o arquivo(get)\n",
        "\n",
        "  @file.setter\n",
        "  def file(self):\n",
        "    self.file = file\n",
        "  #Permite modificar o arquivo(set)"
      ],
      "execution_count": null,
      "outputs": []
    },
    {
      "cell_type": "code",
      "metadata": {
        "id": "4T9R0Hb-wKNj"
      },
      "source": [
        "MegaSenaData = Data('MegaSenaAtualizada.xlsx')"
      ],
      "execution_count": null,
      "outputs": []
    },
    {
      "cell_type": "code",
      "metadata": {
        "id": "QWgRmEMuBZ63",
        "colab": {
          "base_uri": "https://localhost:8080/",
          "height": 773
        },
        "outputId": "3ecf4808-1724-4fdd-8035-71a87988af42"
      },
      "source": [
        "MegaSenaData.TotalData()"
      ],
      "execution_count": null,
      "outputs": [
        {
          "output_type": "execute_result",
          "data": {
            "text/html": [
              "<div>\n",
              "<style scoped>\n",
              "    .dataframe tbody tr th:only-of-type {\n",
              "        vertical-align: middle;\n",
              "    }\n",
              "\n",
              "    .dataframe tbody tr th {\n",
              "        vertical-align: top;\n",
              "    }\n",
              "\n",
              "    .dataframe thead th {\n",
              "        text-align: right;\n",
              "    }\n",
              "</style>\n",
              "<table border=\"1\" class=\"dataframe\">\n",
              "  <thead>\n",
              "    <tr style=\"text-align: right;\">\n",
              "      <th></th>\n",
              "      <th>Concurso</th>\n",
              "      <th>Local</th>\n",
              "      <th>Data do Sorteio</th>\n",
              "      <th>Coluna 1</th>\n",
              "      <th>Coluna 2</th>\n",
              "      <th>Coluna 3</th>\n",
              "      <th>Coluna 4</th>\n",
              "      <th>Coluna 5</th>\n",
              "      <th>Coluna 6</th>\n",
              "      <th>Ganhadores Faixa 1</th>\n",
              "      <th>Ganhadores Faixa 2</th>\n",
              "      <th>Ganhadores Faixa 3</th>\n",
              "      <th>Rateio Faixa 1</th>\n",
              "      <th>Rateio Faixa 2</th>\n",
              "      <th>Rateio Faixa 3</th>\n",
              "      <th>Cidade</th>\n",
              "      <th>Estado</th>\n",
              "      <th>Valor Arrecadado</th>\n",
              "      <th>Estimativa para o próximo concurso</th>\n",
              "      <th>Valor Acumulado Próximo Concurso</th>\n",
              "      <th>Acumulado</th>\n",
              "      <th>Sorteio Especial</th>\n",
              "      <th>Observação</th>\n",
              "    </tr>\n",
              "  </thead>\n",
              "  <tbody>\n",
              "    <tr>\n",
              "      <th>0</th>\n",
              "      <td>1.00</td>\n",
              "      <td>Brasília, DF</td>\n",
              "      <td>1996-03-11</td>\n",
              "      <td>4.00</td>\n",
              "      <td>5.00</td>\n",
              "      <td>30.00</td>\n",
              "      <td>33.00</td>\n",
              "      <td>41.00</td>\n",
              "      <td>52.00</td>\n",
              "      <td>0.00</td>\n",
              "      <td>17.00</td>\n",
              "      <td>2016.00</td>\n",
              "      <td>0.00</td>\n",
              "      <td>39158.92</td>\n",
              "      <td>330.21</td>\n",
              "      <td>NaN</td>\n",
              "      <td>NaN</td>\n",
              "      <td>0.00</td>\n",
              "      <td>0.00</td>\n",
              "      <td>0.00</td>\n",
              "      <td>SIM</td>\n",
              "      <td>SIM</td>\n",
              "      <td>NaN</td>\n",
              "    </tr>\n",
              "    <tr>\n",
              "      <th>1</th>\n",
              "      <td>2.00</td>\n",
              "      <td>Belo Horizonte, MG</td>\n",
              "      <td>1996-03-18</td>\n",
              "      <td>9.00</td>\n",
              "      <td>37.00</td>\n",
              "      <td>39.00</td>\n",
              "      <td>41.00</td>\n",
              "      <td>43.00</td>\n",
              "      <td>49.00</td>\n",
              "      <td>1.00</td>\n",
              "      <td>65.00</td>\n",
              "      <td>4488.00</td>\n",
              "      <td>2307162.23</td>\n",
              "      <td>14424.02</td>\n",
              "      <td>208.91</td>\n",
              "      <td>NaN</td>\n",
              "      <td>PR</td>\n",
              "      <td>0.00</td>\n",
              "      <td>0.00</td>\n",
              "      <td>0.00</td>\n",
              "      <td>NAO</td>\n",
              "      <td>SIM</td>\n",
              "      <td>NaN</td>\n",
              "    </tr>\n",
              "    <tr>\n",
              "      <th>2</th>\n",
              "      <td>3.00</td>\n",
              "      <td>Brasília, DF</td>\n",
              "      <td>1996-03-25</td>\n",
              "      <td>10.00</td>\n",
              "      <td>11.00</td>\n",
              "      <td>29.00</td>\n",
              "      <td>30.00</td>\n",
              "      <td>36.00</td>\n",
              "      <td>47.00</td>\n",
              "      <td>2.00</td>\n",
              "      <td>62.00</td>\n",
              "      <td>4261.00</td>\n",
              "      <td>391192.51</td>\n",
              "      <td>10515.93</td>\n",
              "      <td>153.01</td>\n",
              "      <td>NaN</td>\n",
              "      <td>RN</td>\n",
              "      <td>0.00</td>\n",
              "      <td>0.00</td>\n",
              "      <td>0.00</td>\n",
              "      <td>NAO</td>\n",
              "      <td>SIM</td>\n",
              "      <td>NaN</td>\n",
              "    </tr>\n",
              "    <tr>\n",
              "      <th>3</th>\n",
              "      <td>4.00</td>\n",
              "      <td>Santo André, SP</td>\n",
              "      <td>1996-04-01</td>\n",
              "      <td>1.00</td>\n",
              "      <td>5.00</td>\n",
              "      <td>6.00</td>\n",
              "      <td>27.00</td>\n",
              "      <td>42.00</td>\n",
              "      <td>59.00</td>\n",
              "      <td>0.00</td>\n",
              "      <td>39.00</td>\n",
              "      <td>3311.00</td>\n",
              "      <td>0.00</td>\n",
              "      <td>15322.24</td>\n",
              "      <td>180.48</td>\n",
              "      <td>NaN</td>\n",
              "      <td>NaN</td>\n",
              "      <td>0.00</td>\n",
              "      <td>0.00</td>\n",
              "      <td>0.00</td>\n",
              "      <td>SIM</td>\n",
              "      <td>SIM</td>\n",
              "      <td>NaN</td>\n",
              "    </tr>\n",
              "    <tr>\n",
              "      <th>4</th>\n",
              "      <td>5.00</td>\n",
              "      <td>Brasília, DF</td>\n",
              "      <td>1996-04-08</td>\n",
              "      <td>1.00</td>\n",
              "      <td>2.00</td>\n",
              "      <td>6.00</td>\n",
              "      <td>16.00</td>\n",
              "      <td>19.00</td>\n",
              "      <td>46.00</td>\n",
              "      <td>0.00</td>\n",
              "      <td>98.00</td>\n",
              "      <td>5399.00</td>\n",
              "      <td>0.00</td>\n",
              "      <td>5318.10</td>\n",
              "      <td>96.53</td>\n",
              "      <td>NaN</td>\n",
              "      <td>NaN</td>\n",
              "      <td>0.00</td>\n",
              "      <td>0.00</td>\n",
              "      <td>0.00</td>\n",
              "      <td>SIM</td>\n",
              "      <td>SIM</td>\n",
              "      <td>NaN</td>\n",
              "    </tr>\n",
              "    <tr>\n",
              "      <th>...</th>\n",
              "      <td>...</td>\n",
              "      <td>...</td>\n",
              "      <td>...</td>\n",
              "      <td>...</td>\n",
              "      <td>...</td>\n",
              "      <td>...</td>\n",
              "      <td>...</td>\n",
              "      <td>...</td>\n",
              "      <td>...</td>\n",
              "      <td>...</td>\n",
              "      <td>...</td>\n",
              "      <td>...</td>\n",
              "      <td>...</td>\n",
              "      <td>...</td>\n",
              "      <td>...</td>\n",
              "      <td>...</td>\n",
              "      <td>...</td>\n",
              "      <td>...</td>\n",
              "      <td>...</td>\n",
              "      <td>...</td>\n",
              "      <td>...</td>\n",
              "      <td>...</td>\n",
              "      <td>...</td>\n",
              "    </tr>\n",
              "    <tr>\n",
              "      <th>2601</th>\n",
              "      <td>2428.00</td>\n",
              "      <td>SÃO PAULO, SP</td>\n",
              "      <td>2021-11-13</td>\n",
              "      <td>3.00</td>\n",
              "      <td>9.00</td>\n",
              "      <td>25.00</td>\n",
              "      <td>28.00</td>\n",
              "      <td>29.00</td>\n",
              "      <td>39.00</td>\n",
              "      <td>0.00</td>\n",
              "      <td>50.00</td>\n",
              "      <td>4168.00</td>\n",
              "      <td>0.00</td>\n",
              "      <td>39761.94</td>\n",
              "      <td>681.41</td>\n",
              "      <td>NaN</td>\n",
              "      <td>NaN</td>\n",
              "      <td>34482343.50</td>\n",
              "      <td>8000000.00</td>\n",
              "      <td>72254066.41</td>\n",
              "      <td>SIM</td>\n",
              "      <td>SIM</td>\n",
              "      <td>NaN</td>\n",
              "    </tr>\n",
              "    <tr>\n",
              "      <th>2602</th>\n",
              "      <td>2429.00</td>\n",
              "      <td>SÃO PAULO, SP</td>\n",
              "      <td>2021-11-17</td>\n",
              "      <td>11.00</td>\n",
              "      <td>37.00</td>\n",
              "      <td>53.00</td>\n",
              "      <td>55.00</td>\n",
              "      <td>56.00</td>\n",
              "      <td>60.00</td>\n",
              "      <td>0.00</td>\n",
              "      <td>31.00</td>\n",
              "      <td>2462.00</td>\n",
              "      <td>0.00</td>\n",
              "      <td>63435.43</td>\n",
              "      <td>1141.05</td>\n",
              "      <td>NaN</td>\n",
              "      <td>NaN</td>\n",
              "      <td>34107727.50</td>\n",
              "      <td>38000000.00</td>\n",
              "      <td>72771565.92</td>\n",
              "      <td>SIM</td>\n",
              "      <td>SIM</td>\n",
              "      <td>NaN</td>\n",
              "    </tr>\n",
              "    <tr>\n",
              "      <th>2603</th>\n",
              "      <td>2430.00</td>\n",
              "      <td>SÃO PAULO, SP</td>\n",
              "      <td>2021-11-20</td>\n",
              "      <td>19.00</td>\n",
              "      <td>26.00</td>\n",
              "      <td>39.00</td>\n",
              "      <td>45.00</td>\n",
              "      <td>46.00</td>\n",
              "      <td>56.00</td>\n",
              "      <td>1.00</td>\n",
              "      <td>37.00</td>\n",
              "      <td>4109.00</td>\n",
              "      <td>39690444.50</td>\n",
              "      <td>96493.78</td>\n",
              "      <td>1241.27</td>\n",
              "      <td>UBERLANDIA</td>\n",
              "      <td>MG</td>\n",
              "      <td>61924185.00</td>\n",
              "      <td>3000000.00</td>\n",
              "      <td>73711110.63</td>\n",
              "      <td>NAO</td>\n",
              "      <td>SIM</td>\n",
              "      <td>NaN</td>\n",
              "    </tr>\n",
              "    <tr>\n",
              "      <th>2604</th>\n",
              "      <td>2431.00</td>\n",
              "      <td>SÃO PAULO, SP</td>\n",
              "      <td>2021-11-24</td>\n",
              "      <td>8.00</td>\n",
              "      <td>11.00</td>\n",
              "      <td>22.00</td>\n",
              "      <td>25.00</td>\n",
              "      <td>26.00</td>\n",
              "      <td>36.00</td>\n",
              "      <td>0.00</td>\n",
              "      <td>46.00</td>\n",
              "      <td>2988.00</td>\n",
              "      <td>0.00</td>\n",
              "      <td>35595.61</td>\n",
              "      <td>782.84</td>\n",
              "      <td>NaN</td>\n",
              "      <td>NaN</td>\n",
              "      <td>28399680.00</td>\n",
              "      <td>7000000.00</td>\n",
              "      <td>74142004.79</td>\n",
              "      <td>SIM</td>\n",
              "      <td>SIM</td>\n",
              "      <td>NaN</td>\n",
              "    </tr>\n",
              "    <tr>\n",
              "      <th>2605</th>\n",
              "      <td>2432.00</td>\n",
              "      <td>SÃO PAULO, SP</td>\n",
              "      <td>2021-11-27</td>\n",
              "      <td>7.00</td>\n",
              "      <td>29.00</td>\n",
              "      <td>38.00</td>\n",
              "      <td>40.00</td>\n",
              "      <td>44.00</td>\n",
              "      <td>52.00</td>\n",
              "      <td>0.00</td>\n",
              "      <td>21.00</td>\n",
              "      <td>2572.00</td>\n",
              "      <td>0.00</td>\n",
              "      <td>100863.31</td>\n",
              "      <td>1176.47</td>\n",
              "      <td>NaN</td>\n",
              "      <td>NaN</td>\n",
              "      <td>36737685.00</td>\n",
              "      <td>12000000.00</td>\n",
              "      <td>74699407.33</td>\n",
              "      <td>SIM</td>\n",
              "      <td>SIM</td>\n",
              "      <td>NaN</td>\n",
              "    </tr>\n",
              "  </tbody>\n",
              "</table>\n",
              "<p>2606 rows × 23 columns</p>\n",
              "</div>"
            ],
            "text/plain": [
              "      Concurso               Local  ... Sorteio Especial  Observação\n",
              "0         1.00        Brasília, DF  ...              SIM         NaN\n",
              "1         2.00  Belo Horizonte, MG  ...              SIM         NaN\n",
              "2         3.00        Brasília, DF  ...              SIM         NaN\n",
              "3         4.00     Santo André, SP  ...              SIM         NaN\n",
              "4         5.00        Brasília, DF  ...              SIM         NaN\n",
              "...        ...                 ...  ...              ...         ...\n",
              "2601   2428.00       SÃO PAULO, SP  ...              SIM         NaN\n",
              "2602   2429.00       SÃO PAULO, SP  ...              SIM         NaN\n",
              "2603   2430.00       SÃO PAULO, SP  ...              SIM         NaN\n",
              "2604   2431.00       SÃO PAULO, SP  ...              SIM         NaN\n",
              "2605   2432.00       SÃO PAULO, SP  ...              SIM         NaN\n",
              "\n",
              "[2606 rows x 23 columns]"
            ]
          },
          "metadata": {},
          "execution_count": 6
        }
      ]
    },
    {
      "cell_type": "code",
      "metadata": {
        "id": "u6MoMwdmINO4",
        "colab": {
          "base_uri": "https://localhost:8080/",
          "height": 669
        },
        "outputId": "2535a3a3-0de8-4089-b5f5-2cf2f3242086"
      },
      "source": [
        "MegaSenaData.HandleData()"
      ],
      "execution_count": null,
      "outputs": [
        {
          "output_type": "execute_result",
          "data": {
            "text/html": [
              "<div>\n",
              "<style scoped>\n",
              "    .dataframe tbody tr th:only-of-type {\n",
              "        vertical-align: middle;\n",
              "    }\n",
              "\n",
              "    .dataframe tbody tr th {\n",
              "        vertical-align: top;\n",
              "    }\n",
              "\n",
              "    .dataframe thead th {\n",
              "        text-align: right;\n",
              "    }\n",
              "</style>\n",
              "<table border=\"1\" class=\"dataframe\">\n",
              "  <thead>\n",
              "    <tr style=\"text-align: right;\">\n",
              "      <th></th>\n",
              "      <th>Concurso</th>\n",
              "      <th>Data do Sorteio</th>\n",
              "      <th>Coluna 1</th>\n",
              "      <th>Coluna 2</th>\n",
              "      <th>Coluna 3</th>\n",
              "      <th>Coluna 4</th>\n",
              "      <th>Coluna 5</th>\n",
              "      <th>Coluna 6</th>\n",
              "      <th>Ganhadores Faixa 1</th>\n",
              "      <th>Ganhadores Faixa 2</th>\n",
              "      <th>Ganhadores Faixa 3</th>\n",
              "      <th>Rateio Faixa 1</th>\n",
              "      <th>Rateio Faixa 2</th>\n",
              "      <th>Rateio Faixa 3</th>\n",
              "      <th>Valor Arrecadado</th>\n",
              "      <th>Estimativa para o próximo concurso</th>\n",
              "      <th>Valor Acumulado Próximo Concurso</th>\n",
              "      <th>Acumulado</th>\n",
              "      <th>Sorteio Especial</th>\n",
              "    </tr>\n",
              "  </thead>\n",
              "  <tbody>\n",
              "    <tr>\n",
              "      <th>0</th>\n",
              "      <td>1.00</td>\n",
              "      <td>1996-03-11</td>\n",
              "      <td>4.00</td>\n",
              "      <td>5.00</td>\n",
              "      <td>30.00</td>\n",
              "      <td>33.00</td>\n",
              "      <td>41.00</td>\n",
              "      <td>52.00</td>\n",
              "      <td>0.00</td>\n",
              "      <td>17.00</td>\n",
              "      <td>2016.00</td>\n",
              "      <td>0.00</td>\n",
              "      <td>39158.92</td>\n",
              "      <td>330.21</td>\n",
              "      <td>0.00</td>\n",
              "      <td>0.00</td>\n",
              "      <td>0.00</td>\n",
              "      <td>SIM</td>\n",
              "      <td>SIM</td>\n",
              "    </tr>\n",
              "    <tr>\n",
              "      <th>1</th>\n",
              "      <td>2.00</td>\n",
              "      <td>1996-03-18</td>\n",
              "      <td>9.00</td>\n",
              "      <td>37.00</td>\n",
              "      <td>39.00</td>\n",
              "      <td>41.00</td>\n",
              "      <td>43.00</td>\n",
              "      <td>49.00</td>\n",
              "      <td>1.00</td>\n",
              "      <td>65.00</td>\n",
              "      <td>4488.00</td>\n",
              "      <td>2307162.23</td>\n",
              "      <td>14424.02</td>\n",
              "      <td>208.91</td>\n",
              "      <td>0.00</td>\n",
              "      <td>0.00</td>\n",
              "      <td>0.00</td>\n",
              "      <td>NAO</td>\n",
              "      <td>SIM</td>\n",
              "    </tr>\n",
              "    <tr>\n",
              "      <th>2</th>\n",
              "      <td>3.00</td>\n",
              "      <td>1996-03-25</td>\n",
              "      <td>10.00</td>\n",
              "      <td>11.00</td>\n",
              "      <td>29.00</td>\n",
              "      <td>30.00</td>\n",
              "      <td>36.00</td>\n",
              "      <td>47.00</td>\n",
              "      <td>2.00</td>\n",
              "      <td>62.00</td>\n",
              "      <td>4261.00</td>\n",
              "      <td>391192.51</td>\n",
              "      <td>10515.93</td>\n",
              "      <td>153.01</td>\n",
              "      <td>0.00</td>\n",
              "      <td>0.00</td>\n",
              "      <td>0.00</td>\n",
              "      <td>NAO</td>\n",
              "      <td>SIM</td>\n",
              "    </tr>\n",
              "    <tr>\n",
              "      <th>3</th>\n",
              "      <td>4.00</td>\n",
              "      <td>1996-04-01</td>\n",
              "      <td>1.00</td>\n",
              "      <td>5.00</td>\n",
              "      <td>6.00</td>\n",
              "      <td>27.00</td>\n",
              "      <td>42.00</td>\n",
              "      <td>59.00</td>\n",
              "      <td>0.00</td>\n",
              "      <td>39.00</td>\n",
              "      <td>3311.00</td>\n",
              "      <td>0.00</td>\n",
              "      <td>15322.24</td>\n",
              "      <td>180.48</td>\n",
              "      <td>0.00</td>\n",
              "      <td>0.00</td>\n",
              "      <td>0.00</td>\n",
              "      <td>SIM</td>\n",
              "      <td>SIM</td>\n",
              "    </tr>\n",
              "    <tr>\n",
              "      <th>4</th>\n",
              "      <td>5.00</td>\n",
              "      <td>1996-04-08</td>\n",
              "      <td>1.00</td>\n",
              "      <td>2.00</td>\n",
              "      <td>6.00</td>\n",
              "      <td>16.00</td>\n",
              "      <td>19.00</td>\n",
              "      <td>46.00</td>\n",
              "      <td>0.00</td>\n",
              "      <td>98.00</td>\n",
              "      <td>5399.00</td>\n",
              "      <td>0.00</td>\n",
              "      <td>5318.10</td>\n",
              "      <td>96.53</td>\n",
              "      <td>0.00</td>\n",
              "      <td>0.00</td>\n",
              "      <td>0.00</td>\n",
              "      <td>SIM</td>\n",
              "      <td>SIM</td>\n",
              "    </tr>\n",
              "    <tr>\n",
              "      <th>...</th>\n",
              "      <td>...</td>\n",
              "      <td>...</td>\n",
              "      <td>...</td>\n",
              "      <td>...</td>\n",
              "      <td>...</td>\n",
              "      <td>...</td>\n",
              "      <td>...</td>\n",
              "      <td>...</td>\n",
              "      <td>...</td>\n",
              "      <td>...</td>\n",
              "      <td>...</td>\n",
              "      <td>...</td>\n",
              "      <td>...</td>\n",
              "      <td>...</td>\n",
              "      <td>...</td>\n",
              "      <td>...</td>\n",
              "      <td>...</td>\n",
              "      <td>...</td>\n",
              "      <td>...</td>\n",
              "    </tr>\n",
              "    <tr>\n",
              "      <th>2601</th>\n",
              "      <td>2428.00</td>\n",
              "      <td>2021-11-13</td>\n",
              "      <td>3.00</td>\n",
              "      <td>9.00</td>\n",
              "      <td>25.00</td>\n",
              "      <td>28.00</td>\n",
              "      <td>29.00</td>\n",
              "      <td>39.00</td>\n",
              "      <td>0.00</td>\n",
              "      <td>50.00</td>\n",
              "      <td>4168.00</td>\n",
              "      <td>0.00</td>\n",
              "      <td>39761.94</td>\n",
              "      <td>681.41</td>\n",
              "      <td>34482343.50</td>\n",
              "      <td>8000000.00</td>\n",
              "      <td>72254066.41</td>\n",
              "      <td>SIM</td>\n",
              "      <td>SIM</td>\n",
              "    </tr>\n",
              "    <tr>\n",
              "      <th>2602</th>\n",
              "      <td>2429.00</td>\n",
              "      <td>2021-11-17</td>\n",
              "      <td>11.00</td>\n",
              "      <td>37.00</td>\n",
              "      <td>53.00</td>\n",
              "      <td>55.00</td>\n",
              "      <td>56.00</td>\n",
              "      <td>60.00</td>\n",
              "      <td>0.00</td>\n",
              "      <td>31.00</td>\n",
              "      <td>2462.00</td>\n",
              "      <td>0.00</td>\n",
              "      <td>63435.43</td>\n",
              "      <td>1141.05</td>\n",
              "      <td>34107727.50</td>\n",
              "      <td>38000000.00</td>\n",
              "      <td>72771565.92</td>\n",
              "      <td>SIM</td>\n",
              "      <td>SIM</td>\n",
              "    </tr>\n",
              "    <tr>\n",
              "      <th>2603</th>\n",
              "      <td>2430.00</td>\n",
              "      <td>2021-11-20</td>\n",
              "      <td>19.00</td>\n",
              "      <td>26.00</td>\n",
              "      <td>39.00</td>\n",
              "      <td>45.00</td>\n",
              "      <td>46.00</td>\n",
              "      <td>56.00</td>\n",
              "      <td>1.00</td>\n",
              "      <td>37.00</td>\n",
              "      <td>4109.00</td>\n",
              "      <td>39690444.50</td>\n",
              "      <td>96493.78</td>\n",
              "      <td>1241.27</td>\n",
              "      <td>61924185.00</td>\n",
              "      <td>3000000.00</td>\n",
              "      <td>73711110.63</td>\n",
              "      <td>NAO</td>\n",
              "      <td>SIM</td>\n",
              "    </tr>\n",
              "    <tr>\n",
              "      <th>2604</th>\n",
              "      <td>2431.00</td>\n",
              "      <td>2021-11-24</td>\n",
              "      <td>8.00</td>\n",
              "      <td>11.00</td>\n",
              "      <td>22.00</td>\n",
              "      <td>25.00</td>\n",
              "      <td>26.00</td>\n",
              "      <td>36.00</td>\n",
              "      <td>0.00</td>\n",
              "      <td>46.00</td>\n",
              "      <td>2988.00</td>\n",
              "      <td>0.00</td>\n",
              "      <td>35595.61</td>\n",
              "      <td>782.84</td>\n",
              "      <td>28399680.00</td>\n",
              "      <td>7000000.00</td>\n",
              "      <td>74142004.79</td>\n",
              "      <td>SIM</td>\n",
              "      <td>SIM</td>\n",
              "    </tr>\n",
              "    <tr>\n",
              "      <th>2605</th>\n",
              "      <td>2432.00</td>\n",
              "      <td>2021-11-27</td>\n",
              "      <td>7.00</td>\n",
              "      <td>29.00</td>\n",
              "      <td>38.00</td>\n",
              "      <td>40.00</td>\n",
              "      <td>44.00</td>\n",
              "      <td>52.00</td>\n",
              "      <td>0.00</td>\n",
              "      <td>21.00</td>\n",
              "      <td>2572.00</td>\n",
              "      <td>0.00</td>\n",
              "      <td>100863.31</td>\n",
              "      <td>1176.47</td>\n",
              "      <td>36737685.00</td>\n",
              "      <td>12000000.00</td>\n",
              "      <td>74699407.33</td>\n",
              "      <td>SIM</td>\n",
              "      <td>SIM</td>\n",
              "    </tr>\n",
              "  </tbody>\n",
              "</table>\n",
              "<p>2432 rows × 19 columns</p>\n",
              "</div>"
            ],
            "text/plain": [
              "      Concurso Data do Sorteio  ...  Acumulado  Sorteio Especial\n",
              "0         1.00      1996-03-11  ...        SIM               SIM\n",
              "1         2.00      1996-03-18  ...        NAO               SIM\n",
              "2         3.00      1996-03-25  ...        NAO               SIM\n",
              "3         4.00      1996-04-01  ...        SIM               SIM\n",
              "4         5.00      1996-04-08  ...        SIM               SIM\n",
              "...        ...             ...  ...        ...               ...\n",
              "2601   2428.00      2021-11-13  ...        SIM               SIM\n",
              "2602   2429.00      2021-11-17  ...        SIM               SIM\n",
              "2603   2430.00      2021-11-20  ...        NAO               SIM\n",
              "2604   2431.00      2021-11-24  ...        SIM               SIM\n",
              "2605   2432.00      2021-11-27  ...        SIM               SIM\n",
              "\n",
              "[2432 rows x 19 columns]"
            ]
          },
          "metadata": {},
          "execution_count": 7
        }
      ]
    },
    {
      "cell_type": "code",
      "metadata": {
        "colab": {
          "base_uri": "https://localhost:8080/",
          "height": 669
        },
        "id": "QgNvfV8yYWPs",
        "outputId": "1bc84a74-10a6-4a1e-dbaa-03154d897ffb"
      },
      "source": [
        "MegaSenaData.Year2021()"
      ],
      "execution_count": null,
      "outputs": [
        {
          "output_type": "execute_result",
          "data": {
            "text/html": [
              "<div>\n",
              "<style scoped>\n",
              "    .dataframe tbody tr th:only-of-type {\n",
              "        vertical-align: middle;\n",
              "    }\n",
              "\n",
              "    .dataframe tbody tr th {\n",
              "        vertical-align: top;\n",
              "    }\n",
              "\n",
              "    .dataframe thead th {\n",
              "        text-align: right;\n",
              "    }\n",
              "</style>\n",
              "<table border=\"1\" class=\"dataframe\">\n",
              "  <thead>\n",
              "    <tr style=\"text-align: right;\">\n",
              "      <th></th>\n",
              "      <th>Concurso</th>\n",
              "      <th>Data do Sorteio</th>\n",
              "      <th>Coluna 1</th>\n",
              "      <th>Coluna 2</th>\n",
              "      <th>Coluna 3</th>\n",
              "      <th>Coluna 4</th>\n",
              "      <th>Coluna 5</th>\n",
              "      <th>Coluna 6</th>\n",
              "      <th>Ganhadores Faixa 1</th>\n",
              "      <th>Ganhadores Faixa 2</th>\n",
              "      <th>Ganhadores Faixa 3</th>\n",
              "      <th>Rateio Faixa 1</th>\n",
              "      <th>Rateio Faixa 2</th>\n",
              "      <th>Rateio Faixa 3</th>\n",
              "      <th>Valor Arrecadado</th>\n",
              "      <th>Estimativa para o próximo concurso</th>\n",
              "      <th>Valor Acumulado Próximo Concurso</th>\n",
              "      <th>Acumulado</th>\n",
              "      <th>Sorteio Especial</th>\n",
              "    </tr>\n",
              "  </thead>\n",
              "  <tbody>\n",
              "    <tr>\n",
              "      <th>2498</th>\n",
              "      <td>2331.00</td>\n",
              "      <td>2021-01-02</td>\n",
              "      <td>11.00</td>\n",
              "      <td>13.00</td>\n",
              "      <td>16.00</td>\n",
              "      <td>36.00</td>\n",
              "      <td>53.00</td>\n",
              "      <td>57.00</td>\n",
              "      <td>0.00</td>\n",
              "      <td>10.00</td>\n",
              "      <td>808.00</td>\n",
              "      <td>0.00</td>\n",
              "      <td>50540.79</td>\n",
              "      <td>893.57</td>\n",
              "      <td>8765995.50</td>\n",
              "      <td>4000000.00</td>\n",
              "      <td>133002.09</td>\n",
              "      <td>SIM</td>\n",
              "      <td>SIM</td>\n",
              "    </tr>\n",
              "    <tr>\n",
              "      <th>2499</th>\n",
              "      <td>2332.00</td>\n",
              "      <td>2021-01-06</td>\n",
              "      <td>12.00</td>\n",
              "      <td>33.00</td>\n",
              "      <td>35.00</td>\n",
              "      <td>36.00</td>\n",
              "      <td>44.00</td>\n",
              "      <td>52.00</td>\n",
              "      <td>0.00</td>\n",
              "      <td>32.00</td>\n",
              "      <td>2688.00</td>\n",
              "      <td>0.00</td>\n",
              "      <td>49795.46</td>\n",
              "      <td>846.86</td>\n",
              "      <td>27637510.50</td>\n",
              "      <td>8000000.00</td>\n",
              "      <td>552332.23</td>\n",
              "      <td>SIM</td>\n",
              "      <td>SIM</td>\n",
              "    </tr>\n",
              "    <tr>\n",
              "      <th>2500</th>\n",
              "      <td>2333.00</td>\n",
              "      <td>2021-01-09</td>\n",
              "      <td>9.00</td>\n",
              "      <td>16.00</td>\n",
              "      <td>31.00</td>\n",
              "      <td>41.00</td>\n",
              "      <td>53.00</td>\n",
              "      <td>55.00</td>\n",
              "      <td>0.00</td>\n",
              "      <td>16.00</td>\n",
              "      <td>1994.00</td>\n",
              "      <td>0.00</td>\n",
              "      <td>128304.01</td>\n",
              "      <td>1470.74</td>\n",
              "      <td>35605696.50</td>\n",
              "      <td>12000000.00</td>\n",
              "      <td>1092559.66</td>\n",
              "      <td>SIM</td>\n",
              "      <td>SIM</td>\n",
              "    </tr>\n",
              "    <tr>\n",
              "      <th>2501</th>\n",
              "      <td>2334.00</td>\n",
              "      <td>2021-01-13</td>\n",
              "      <td>4.00</td>\n",
              "      <td>13.00</td>\n",
              "      <td>20.00</td>\n",
              "      <td>22.00</td>\n",
              "      <td>25.00</td>\n",
              "      <td>60.00</td>\n",
              "      <td>1.00</td>\n",
              "      <td>66.00</td>\n",
              "      <td>4609.00</td>\n",
              "      <td>11854874.71</td>\n",
              "      <td>34602.68</td>\n",
              "      <td>707.86</td>\n",
              "      <td>39610737.00</td>\n",
              "      <td>13000000.00</td>\n",
              "      <td>1693553.58</td>\n",
              "      <td>NAO</td>\n",
              "      <td>SIM</td>\n",
              "    </tr>\n",
              "    <tr>\n",
              "      <th>2502</th>\n",
              "      <td>2335.00</td>\n",
              "      <td>2021-01-16</td>\n",
              "      <td>9.00</td>\n",
              "      <td>18.00</td>\n",
              "      <td>23.00</td>\n",
              "      <td>42.00</td>\n",
              "      <td>47.00</td>\n",
              "      <td>49.00</td>\n",
              "      <td>0.00</td>\n",
              "      <td>91.00</td>\n",
              "      <td>5286.00</td>\n",
              "      <td>0.00</td>\n",
              "      <td>26442.64</td>\n",
              "      <td>650.31</td>\n",
              "      <td>41735475.00</td>\n",
              "      <td>17000000.00</td>\n",
              "      <td>2326785.09</td>\n",
              "      <td>SIM</td>\n",
              "      <td>SIM</td>\n",
              "    </tr>\n",
              "    <tr>\n",
              "      <th>...</th>\n",
              "      <td>...</td>\n",
              "      <td>...</td>\n",
              "      <td>...</td>\n",
              "      <td>...</td>\n",
              "      <td>...</td>\n",
              "      <td>...</td>\n",
              "      <td>...</td>\n",
              "      <td>...</td>\n",
              "      <td>...</td>\n",
              "      <td>...</td>\n",
              "      <td>...</td>\n",
              "      <td>...</td>\n",
              "      <td>...</td>\n",
              "      <td>...</td>\n",
              "      <td>...</td>\n",
              "      <td>...</td>\n",
              "      <td>...</td>\n",
              "      <td>...</td>\n",
              "      <td>...</td>\n",
              "    </tr>\n",
              "    <tr>\n",
              "      <th>2601</th>\n",
              "      <td>2428.00</td>\n",
              "      <td>2021-11-13</td>\n",
              "      <td>3.00</td>\n",
              "      <td>9.00</td>\n",
              "      <td>25.00</td>\n",
              "      <td>28.00</td>\n",
              "      <td>29.00</td>\n",
              "      <td>39.00</td>\n",
              "      <td>0.00</td>\n",
              "      <td>50.00</td>\n",
              "      <td>4168.00</td>\n",
              "      <td>0.00</td>\n",
              "      <td>39761.94</td>\n",
              "      <td>681.41</td>\n",
              "      <td>34482343.50</td>\n",
              "      <td>8000000.00</td>\n",
              "      <td>72254066.41</td>\n",
              "      <td>SIM</td>\n",
              "      <td>SIM</td>\n",
              "    </tr>\n",
              "    <tr>\n",
              "      <th>2602</th>\n",
              "      <td>2429.00</td>\n",
              "      <td>2021-11-17</td>\n",
              "      <td>11.00</td>\n",
              "      <td>37.00</td>\n",
              "      <td>53.00</td>\n",
              "      <td>55.00</td>\n",
              "      <td>56.00</td>\n",
              "      <td>60.00</td>\n",
              "      <td>0.00</td>\n",
              "      <td>31.00</td>\n",
              "      <td>2462.00</td>\n",
              "      <td>0.00</td>\n",
              "      <td>63435.43</td>\n",
              "      <td>1141.05</td>\n",
              "      <td>34107727.50</td>\n",
              "      <td>38000000.00</td>\n",
              "      <td>72771565.92</td>\n",
              "      <td>SIM</td>\n",
              "      <td>SIM</td>\n",
              "    </tr>\n",
              "    <tr>\n",
              "      <th>2603</th>\n",
              "      <td>2430.00</td>\n",
              "      <td>2021-11-20</td>\n",
              "      <td>19.00</td>\n",
              "      <td>26.00</td>\n",
              "      <td>39.00</td>\n",
              "      <td>45.00</td>\n",
              "      <td>46.00</td>\n",
              "      <td>56.00</td>\n",
              "      <td>1.00</td>\n",
              "      <td>37.00</td>\n",
              "      <td>4109.00</td>\n",
              "      <td>39690444.50</td>\n",
              "      <td>96493.78</td>\n",
              "      <td>1241.27</td>\n",
              "      <td>61924185.00</td>\n",
              "      <td>3000000.00</td>\n",
              "      <td>73711110.63</td>\n",
              "      <td>NAO</td>\n",
              "      <td>SIM</td>\n",
              "    </tr>\n",
              "    <tr>\n",
              "      <th>2604</th>\n",
              "      <td>2431.00</td>\n",
              "      <td>2021-11-24</td>\n",
              "      <td>8.00</td>\n",
              "      <td>11.00</td>\n",
              "      <td>22.00</td>\n",
              "      <td>25.00</td>\n",
              "      <td>26.00</td>\n",
              "      <td>36.00</td>\n",
              "      <td>0.00</td>\n",
              "      <td>46.00</td>\n",
              "      <td>2988.00</td>\n",
              "      <td>0.00</td>\n",
              "      <td>35595.61</td>\n",
              "      <td>782.84</td>\n",
              "      <td>28399680.00</td>\n",
              "      <td>7000000.00</td>\n",
              "      <td>74142004.79</td>\n",
              "      <td>SIM</td>\n",
              "      <td>SIM</td>\n",
              "    </tr>\n",
              "    <tr>\n",
              "      <th>2605</th>\n",
              "      <td>2432.00</td>\n",
              "      <td>2021-11-27</td>\n",
              "      <td>7.00</td>\n",
              "      <td>29.00</td>\n",
              "      <td>38.00</td>\n",
              "      <td>40.00</td>\n",
              "      <td>44.00</td>\n",
              "      <td>52.00</td>\n",
              "      <td>0.00</td>\n",
              "      <td>21.00</td>\n",
              "      <td>2572.00</td>\n",
              "      <td>0.00</td>\n",
              "      <td>100863.31</td>\n",
              "      <td>1176.47</td>\n",
              "      <td>36737685.00</td>\n",
              "      <td>12000000.00</td>\n",
              "      <td>74699407.33</td>\n",
              "      <td>SIM</td>\n",
              "      <td>SIM</td>\n",
              "    </tr>\n",
              "  </tbody>\n",
              "</table>\n",
              "<p>102 rows × 19 columns</p>\n",
              "</div>"
            ],
            "text/plain": [
              "      Concurso Data do Sorteio  ...  Acumulado  Sorteio Especial\n",
              "2498   2331.00      2021-01-02  ...        SIM               SIM\n",
              "2499   2332.00      2021-01-06  ...        SIM               SIM\n",
              "2500   2333.00      2021-01-09  ...        SIM               SIM\n",
              "2501   2334.00      2021-01-13  ...        NAO               SIM\n",
              "2502   2335.00      2021-01-16  ...        SIM               SIM\n",
              "...        ...             ...  ...        ...               ...\n",
              "2601   2428.00      2021-11-13  ...        SIM               SIM\n",
              "2602   2429.00      2021-11-17  ...        SIM               SIM\n",
              "2603   2430.00      2021-11-20  ...        NAO               SIM\n",
              "2604   2431.00      2021-11-24  ...        SIM               SIM\n",
              "2605   2432.00      2021-11-27  ...        SIM               SIM\n",
              "\n",
              "[102 rows x 19 columns]"
            ]
          },
          "metadata": {},
          "execution_count": 8
        }
      ]
    },
    {
      "cell_type": "code",
      "metadata": {
        "id": "CRKut65LF2nj"
      },
      "source": [
        "class Stats:\n",
        "  def __init__(self , Data):\n",
        "      self._dataFrame = Data.HandleData()\n",
        "      \n",
        "  def describe(self):\n",
        "    dataDescribe = self._dataFrame.describe()\n",
        "    return dataDescribe\n",
        "    #Retorna todos os dados estatísticos\n",
        "\n",
        "  def mode(self):\n",
        "    dataModa = self._dataFrame.mode()\n",
        "    return dataModa.dropna()\n",
        "    #Retorna a moda\n",
        "\n",
        "  def mean(self):\n",
        "    dataMedia = self._dataFrame.mean()\n",
        "    return dataMedia\n",
        "    #Retorna a média\n",
        "\n",
        "  def median(self):\n",
        "    dataMedian = self._dataFrame.median()\n",
        "    return dataMedian\n",
        "    #Retorna a mediana , que é igual ao segundo quartil\n",
        "\n",
        "  def firstQuartile(self):\n",
        "    dataPQuartil = self.describe().iloc[4]\n",
        "    return dataPQuartil\n",
        "    #Retorna o primero quartil\n",
        "\n",
        "  def thirdQuartile(self):\n",
        "    dataTQuartil = self.describe().iloc[6]\n",
        "    return dataTQuartil\n",
        "    #Retorna o terceiro quartil"
      ],
      "execution_count": null,
      "outputs": []
    },
    {
      "cell_type": "code",
      "metadata": {
        "id": "_QiLdDKouTar"
      },
      "source": [
        "statsMegasena = Stats(MegaSenaData)"
      ],
      "execution_count": null,
      "outputs": []
    },
    {
      "cell_type": "code",
      "metadata": {
        "id": "IZj4P2aT2OVo",
        "colab": {
          "base_uri": "https://localhost:8080/",
          "height": 352
        },
        "outputId": "7815f1ab-dc9c-4b3b-c653-7a18321b254e"
      },
      "source": [
        "statsMegasena.describe()"
      ],
      "execution_count": null,
      "outputs": [
        {
          "output_type": "execute_result",
          "data": {
            "text/html": [
              "<div>\n",
              "<style scoped>\n",
              "    .dataframe tbody tr th:only-of-type {\n",
              "        vertical-align: middle;\n",
              "    }\n",
              "\n",
              "    .dataframe tbody tr th {\n",
              "        vertical-align: top;\n",
              "    }\n",
              "\n",
              "    .dataframe thead th {\n",
              "        text-align: right;\n",
              "    }\n",
              "</style>\n",
              "<table border=\"1\" class=\"dataframe\">\n",
              "  <thead>\n",
              "    <tr style=\"text-align: right;\">\n",
              "      <th></th>\n",
              "      <th>Concurso</th>\n",
              "      <th>Coluna 1</th>\n",
              "      <th>Coluna 2</th>\n",
              "      <th>Coluna 3</th>\n",
              "      <th>Coluna 4</th>\n",
              "      <th>Coluna 5</th>\n",
              "      <th>Coluna 6</th>\n",
              "      <th>Ganhadores Faixa 1</th>\n",
              "      <th>Ganhadores Faixa 2</th>\n",
              "      <th>Ganhadores Faixa 3</th>\n",
              "      <th>Rateio Faixa 1</th>\n",
              "      <th>Rateio Faixa 2</th>\n",
              "      <th>Rateio Faixa 3</th>\n",
              "      <th>Valor Arrecadado</th>\n",
              "      <th>Estimativa para o próximo concurso</th>\n",
              "      <th>Valor Acumulado Próximo Concurso</th>\n",
              "    </tr>\n",
              "  </thead>\n",
              "  <tbody>\n",
              "    <tr>\n",
              "      <th>count</th>\n",
              "      <td>2432.00</td>\n",
              "      <td>2432.00</td>\n",
              "      <td>2432.00</td>\n",
              "      <td>2432.00</td>\n",
              "      <td>2432.00</td>\n",
              "      <td>2432.00</td>\n",
              "      <td>2432.00</td>\n",
              "      <td>2432.00</td>\n",
              "      <td>2432.00</td>\n",
              "      <td>2432.00</td>\n",
              "      <td>2432.00</td>\n",
              "      <td>2432.00</td>\n",
              "      <td>2432.00</td>\n",
              "      <td>2432.00</td>\n",
              "      <td>2432.00</td>\n",
              "      <td>2432.00</td>\n",
              "    </tr>\n",
              "    <tr>\n",
              "      <th>mean</th>\n",
              "      <td>1216.50</td>\n",
              "      <td>8.62</td>\n",
              "      <td>17.30</td>\n",
              "      <td>26.29</td>\n",
              "      <td>35.02</td>\n",
              "      <td>43.52</td>\n",
              "      <td>52.20</td>\n",
              "      <td>0.35</td>\n",
              "      <td>111.52</td>\n",
              "      <td>7142.20</td>\n",
              "      <td>4904851.81</td>\n",
              "      <td>26124.48</td>\n",
              "      <td>451.88</td>\n",
              "      <td>28414695.96</td>\n",
              "      <td>15542927.63</td>\n",
              "      <td>20226576.88</td>\n",
              "    </tr>\n",
              "    <tr>\n",
              "      <th>std</th>\n",
              "      <td>702.20</td>\n",
              "      <td>7.00</td>\n",
              "      <td>9.12</td>\n",
              "      <td>9.97</td>\n",
              "      <td>9.79</td>\n",
              "      <td>9.01</td>\n",
              "      <td>6.95</td>\n",
              "      <td>1.33</td>\n",
              "      <td>231.35</td>\n",
              "      <td>10667.96</td>\n",
              "      <td>15376238.09</td>\n",
              "      <td>17508.15</td>\n",
              "      <td>294.70</td>\n",
              "      <td>62011624.73</td>\n",
              "      <td>28157865.47</td>\n",
              "      <td>24603578.87</td>\n",
              "    </tr>\n",
              "    <tr>\n",
              "      <th>min</th>\n",
              "      <td>1.00</td>\n",
              "      <td>1.00</td>\n",
              "      <td>2.00</td>\n",
              "      <td>3.00</td>\n",
              "      <td>8.00</td>\n",
              "      <td>11.00</td>\n",
              "      <td>22.00</td>\n",
              "      <td>0.00</td>\n",
              "      <td>4.00</td>\n",
              "      <td>683.00</td>\n",
              "      <td>0.00</td>\n",
              "      <td>122.53</td>\n",
              "      <td>69.55</td>\n",
              "      <td>0.00</td>\n",
              "      <td>0.00</td>\n",
              "      <td>0.00</td>\n",
              "    </tr>\n",
              "    <tr>\n",
              "      <th>25%</th>\n",
              "      <td>608.75</td>\n",
              "      <td>3.00</td>\n",
              "      <td>10.00</td>\n",
              "      <td>19.00</td>\n",
              "      <td>28.00</td>\n",
              "      <td>38.00</td>\n",
              "      <td>49.00</td>\n",
              "      <td>0.00</td>\n",
              "      <td>48.00</td>\n",
              "      <td>3678.00</td>\n",
              "      <td>0.00</td>\n",
              "      <td>13948.81</td>\n",
              "      <td>218.50</td>\n",
              "      <td>0.00</td>\n",
              "      <td>0.00</td>\n",
              "      <td>0.00</td>\n",
              "    </tr>\n",
              "    <tr>\n",
              "      <th>50%</th>\n",
              "      <td>1216.50</td>\n",
              "      <td>7.00</td>\n",
              "      <td>16.00</td>\n",
              "      <td>26.00</td>\n",
              "      <td>35.00</td>\n",
              "      <td>44.00</td>\n",
              "      <td>54.00</td>\n",
              "      <td>0.00</td>\n",
              "      <td>75.00</td>\n",
              "      <td>5326.00</td>\n",
              "      <td>0.00</td>\n",
              "      <td>21207.47</td>\n",
              "      <td>354.70</td>\n",
              "      <td>23692479.50</td>\n",
              "      <td>3900000.00</td>\n",
              "      <td>8068429.57</td>\n",
              "    </tr>\n",
              "    <tr>\n",
              "      <th>75%</th>\n",
              "      <td>1824.25</td>\n",
              "      <td>12.00</td>\n",
              "      <td>23.00</td>\n",
              "      <td>33.00</td>\n",
              "      <td>42.00</td>\n",
              "      <td>51.00</td>\n",
              "      <td>58.00</td>\n",
              "      <td>0.00</td>\n",
              "      <td>117.25</td>\n",
              "      <td>7655.75</td>\n",
              "      <td>0.00</td>\n",
              "      <td>33670.38</td>\n",
              "      <td>635.37</td>\n",
              "      <td>39744757.38</td>\n",
              "      <td>23000000.00</td>\n",
              "      <td>37694113.81</td>\n",
              "    </tr>\n",
              "    <tr>\n",
              "      <th>max</th>\n",
              "      <td>2432.00</td>\n",
              "      <td>50.00</td>\n",
              "      <td>51.00</td>\n",
              "      <td>56.00</td>\n",
              "      <td>58.00</td>\n",
              "      <td>59.00</td>\n",
              "      <td>60.00</td>\n",
              "      <td>52.00</td>\n",
              "      <td>7688.00</td>\n",
              "      <td>303857.00</td>\n",
              "      <td>289420865.00</td>\n",
              "      <td>169338.14</td>\n",
              "      <td>1724.83</td>\n",
              "      <td>1175719054.50</td>\n",
              "      <td>300000000.00</td>\n",
              "      <td>139099571.93</td>\n",
              "    </tr>\n",
              "  </tbody>\n",
              "</table>\n",
              "</div>"
            ],
            "text/plain": [
              "       Concurso  ...  Valor Acumulado Próximo Concurso\n",
              "count   2432.00  ...                           2432.00\n",
              "mean    1216.50  ...                       20226576.88\n",
              "std      702.20  ...                       24603578.87\n",
              "min        1.00  ...                              0.00\n",
              "25%      608.75  ...                              0.00\n",
              "50%     1216.50  ...                        8068429.57\n",
              "75%     1824.25  ...                       37694113.81\n",
              "max     2432.00  ...                      139099571.93\n",
              "\n",
              "[8 rows x 16 columns]"
            ]
          },
          "metadata": {},
          "execution_count": 11
        }
      ]
    },
    {
      "cell_type": "code",
      "metadata": {
        "id": "icMWy69p2Ugy",
        "colab": {
          "base_uri": "https://localhost:8080/",
          "height": 170
        },
        "outputId": "17ddfa74-a422-4bf2-8196-1a12a1baaf4c"
      },
      "source": [
        "statsMegasena.mode()"
      ],
      "execution_count": null,
      "outputs": [
        {
          "output_type": "execute_result",
          "data": {
            "text/html": [
              "<div>\n",
              "<style scoped>\n",
              "    .dataframe tbody tr th:only-of-type {\n",
              "        vertical-align: middle;\n",
              "    }\n",
              "\n",
              "    .dataframe tbody tr th {\n",
              "        vertical-align: top;\n",
              "    }\n",
              "\n",
              "    .dataframe thead th {\n",
              "        text-align: right;\n",
              "    }\n",
              "</style>\n",
              "<table border=\"1\" class=\"dataframe\">\n",
              "  <thead>\n",
              "    <tr style=\"text-align: right;\">\n",
              "      <th></th>\n",
              "      <th>Concurso</th>\n",
              "      <th>Data do Sorteio</th>\n",
              "      <th>Coluna 1</th>\n",
              "      <th>Coluna 2</th>\n",
              "      <th>Coluna 3</th>\n",
              "      <th>Coluna 4</th>\n",
              "      <th>Coluna 5</th>\n",
              "      <th>Coluna 6</th>\n",
              "      <th>Ganhadores Faixa 1</th>\n",
              "      <th>Ganhadores Faixa 2</th>\n",
              "      <th>Ganhadores Faixa 3</th>\n",
              "      <th>Rateio Faixa 1</th>\n",
              "      <th>Rateio Faixa 2</th>\n",
              "      <th>Rateio Faixa 3</th>\n",
              "      <th>Valor Arrecadado</th>\n",
              "      <th>Estimativa para o próximo concurso</th>\n",
              "      <th>Valor Acumulado Próximo Concurso</th>\n",
              "      <th>Acumulado</th>\n",
              "      <th>Sorteio Especial</th>\n",
              "    </tr>\n",
              "  </thead>\n",
              "  <tbody>\n",
              "    <tr>\n",
              "      <th>0</th>\n",
              "      <td>1.00</td>\n",
              "      <td>1996-03-11</td>\n",
              "      <td>1.00</td>\n",
              "      <td>16.00</td>\n",
              "      <td>28.00</td>\n",
              "      <td>37.00</td>\n",
              "      <td>42.00</td>\n",
              "      <td>60.00</td>\n",
              "      <td>0.00</td>\n",
              "      <td>46.00</td>\n",
              "      <td>5886.00</td>\n",
              "      <td>0.00</td>\n",
              "      <td>122.53</td>\n",
              "      <td>159.45</td>\n",
              "      <td>0.00</td>\n",
              "      <td>0.00</td>\n",
              "      <td>0.00</td>\n",
              "      <td>SIM</td>\n",
              "      <td>SIM</td>\n",
              "    </tr>\n",
              "  </tbody>\n",
              "</table>\n",
              "</div>"
            ],
            "text/plain": [
              "   Concurso Data do Sorteio  ...  Acumulado  Sorteio Especial\n",
              "0      1.00      1996-03-11  ...        SIM               SIM\n",
              "\n",
              "[1 rows x 19 columns]"
            ]
          },
          "metadata": {},
          "execution_count": 12
        }
      ]
    },
    {
      "cell_type": "code",
      "metadata": {
        "id": "t29IBF_F2XpX",
        "colab": {
          "base_uri": "https://localhost:8080/"
        },
        "outputId": "ab8199fc-5d15-4181-f886-11383895b2cf"
      },
      "source": [
        "statsMegasena.mean() "
      ],
      "execution_count": null,
      "outputs": [
        {
          "output_type": "stream",
          "name": "stderr",
          "text": [
            "/usr/local/lib/python3.7/dist-packages/ipykernel_launcher.py:16: FutureWarning: DataFrame.mean and DataFrame.median with numeric_only=None will include datetime64 and datetime64tz columns in a future version.\n",
            "  app.launch_new_instance()\n"
          ]
        },
        {
          "output_type": "execute_result",
          "data": {
            "text/plain": [
              "Concurso                                 1216.50\n",
              "Coluna 1                                    8.62\n",
              "Coluna 2                                   17.30\n",
              "Coluna 3                                   26.29\n",
              "Coluna 4                                   35.02\n",
              "Coluna 5                                   43.52\n",
              "Coluna 6                                   52.20\n",
              "Ganhadores Faixa 1                          0.35\n",
              "Ganhadores Faixa 2                        111.52\n",
              "Ganhadores Faixa 3                       7142.20\n",
              "Rateio Faixa 1                        4904851.81\n",
              "Rateio Faixa 2                          26124.48\n",
              "Rateio Faixa 3                            451.88\n",
              "Valor Arrecadado                     28414695.96\n",
              "Estimativa para o próximo concurso   15542927.63\n",
              "Valor Acumulado Próximo Concurso     20226576.88\n",
              "dtype: float64"
            ]
          },
          "metadata": {},
          "execution_count": 13
        }
      ]
    },
    {
      "cell_type": "code",
      "metadata": {
        "id": "8QC2qoTU2ZpG",
        "colab": {
          "base_uri": "https://localhost:8080/"
        },
        "outputId": "6c2f8525-ca81-4959-f77d-a5ef1af9e021"
      },
      "source": [
        "statsMegasena.median()"
      ],
      "execution_count": null,
      "outputs": [
        {
          "output_type": "stream",
          "name": "stderr",
          "text": [
            "/usr/local/lib/python3.7/dist-packages/ipykernel_launcher.py:21: FutureWarning: DataFrame.mean and DataFrame.median with numeric_only=None will include datetime64 and datetime64tz columns in a future version.\n"
          ]
        },
        {
          "output_type": "execute_result",
          "data": {
            "text/plain": [
              "Concurso                                 1216.50\n",
              "Coluna 1                                    7.00\n",
              "Coluna 2                                   16.00\n",
              "Coluna 3                                   26.00\n",
              "Coluna 4                                   35.00\n",
              "Coluna 5                                   44.00\n",
              "Coluna 6                                   54.00\n",
              "Ganhadores Faixa 1                          0.00\n",
              "Ganhadores Faixa 2                         75.00\n",
              "Ganhadores Faixa 3                       5326.00\n",
              "Rateio Faixa 1                              0.00\n",
              "Rateio Faixa 2                          21207.47\n",
              "Rateio Faixa 3                            354.70\n",
              "Valor Arrecadado                     23692479.50\n",
              "Estimativa para o próximo concurso    3900000.00\n",
              "Valor Acumulado Próximo Concurso      8068429.57\n",
              "dtype: float64"
            ]
          },
          "metadata": {},
          "execution_count": 14
        }
      ]
    },
    {
      "cell_type": "code",
      "metadata": {
        "id": "cVYW12TdrT2s",
        "colab": {
          "base_uri": "https://localhost:8080/"
        },
        "outputId": "72ce4a2d-b6bf-4bc8-9743-5ab3de05eb59"
      },
      "source": [
        "statsMegasena.firstQuartile()"
      ],
      "execution_count": null,
      "outputs": [
        {
          "output_type": "execute_result",
          "data": {
            "text/plain": [
              "Concurso                               608.75\n",
              "Coluna 1                                 3.00\n",
              "Coluna 2                                10.00\n",
              "Coluna 3                                19.00\n",
              "Coluna 4                                28.00\n",
              "Coluna 5                                38.00\n",
              "Coluna 6                                49.00\n",
              "Ganhadores Faixa 1                       0.00\n",
              "Ganhadores Faixa 2                      48.00\n",
              "Ganhadores Faixa 3                    3678.00\n",
              "Rateio Faixa 1                           0.00\n",
              "Rateio Faixa 2                       13948.81\n",
              "Rateio Faixa 3                         218.50\n",
              "Valor Arrecadado                         0.00\n",
              "Estimativa para o próximo concurso       0.00\n",
              "Valor Acumulado Próximo Concurso         0.00\n",
              "Name: 25%, dtype: float64"
            ]
          },
          "metadata": {},
          "execution_count": 15
        }
      ]
    },
    {
      "cell_type": "code",
      "metadata": {
        "id": "eL8ykreqrXoa",
        "colab": {
          "base_uri": "https://localhost:8080/"
        },
        "outputId": "7d579a94-3331-4bb7-8bfc-de4499ea95f1"
      },
      "source": [
        "statsMegasena.thirdQuartile()"
      ],
      "execution_count": null,
      "outputs": [
        {
          "output_type": "execute_result",
          "data": {
            "text/plain": [
              "Concurso                                 1824.25\n",
              "Coluna 1                                   12.00\n",
              "Coluna 2                                   23.00\n",
              "Coluna 3                                   33.00\n",
              "Coluna 4                                   42.00\n",
              "Coluna 5                                   51.00\n",
              "Coluna 6                                   58.00\n",
              "Ganhadores Faixa 1                          0.00\n",
              "Ganhadores Faixa 2                        117.25\n",
              "Ganhadores Faixa 3                       7655.75\n",
              "Rateio Faixa 1                              0.00\n",
              "Rateio Faixa 2                          33670.38\n",
              "Rateio Faixa 3                            635.37\n",
              "Valor Arrecadado                     39744757.38\n",
              "Estimativa para o próximo concurso   23000000.00\n",
              "Valor Acumulado Próximo Concurso     37694113.81\n",
              "Name: 75%, dtype: float64"
            ]
          },
          "metadata": {},
          "execution_count": 16
        }
      ]
    },
    {
      "cell_type": "code",
      "metadata": {
        "id": "Z8FnWz162bW9"
      },
      "source": [
        "class Ticket():\n",
        "  def __init__(self , qntdNumbers):\n",
        "      self._qntdNumbers =  self._checkQntdNumbers(qntdNumbers) # Quantidade de números que serão colocados no bilhete\n",
        "      self._numbers = [] # Números do bilhete são colocados em um array\n",
        "      print(\"Ticket successfully created\")\n",
        "\n",
        "     \n",
        "\n",
        "  def _checkQntdNumbers(self , qntdNumbers):\n",
        "      # Verifica se a quantidade de números escolhidos está dentro do permitido nas regras da loteria.\n",
        "      # No caso da Mega-Sena , a quantidade de número permitida está entre 6(min) e 15(max).\n",
        "      \n",
        "      if(qntdNumbers >= 6 and qntdNumbers <= 15):\n",
        "        return qntdNumbers\n",
        "      \n",
        "      # Caso a quantidade esteja fora do permitido , é exibida uma mensagem de erro e atribuido a quantidade de números o valor mínimo (6).\n",
        "      print('Error')\n",
        "      print('Invalid amount of numbers')\n",
        "      print('Amount of numbers defined to  the minimum value(6)')\n",
        "      return 6\n",
        "\n",
        "\n",
        "  \n",
        "  def fill(self , *numbers): \n",
        "      # Primeiramente , confere se a quantidade de números inseridos para preencher o bilhete é igual a quantidade informada previamente.\n",
        "      # Caso não seja , retorna uma mensagem de erro e o bilhete continua vazio\n",
        "      \n",
        "      if(len(numbers) != self._qntdNumbers):\n",
        "        return 'Invalid amount of numbers'\n",
        "\n",
        "      # Checa se o bilhete já foi preenchido\n",
        "      if(self._numbers):\n",
        "        return 'Bilhete ja foi preenchido'\n",
        "      \n",
        "      \n",
        "      # Gera os números do bilhete de acordo com os números passados por argumento \n",
        "      # Caso os números estejam foram do escopo permitido(01 - 60) ou aconteça uma repetição de números , gera um número aleatório.\n",
        "      for i in range(0 , self._qntdNumbers):\n",
        "        number = self.checkNumber(numbers[i])\n",
        "        self._numbers.append(self.checkInNumbers(number))\n",
        "      print(\"Ticket filled\")\n",
        "\n",
        "\n",
        "  def checkNumber(self , number):\n",
        "      # Checa se o número do bilhete está dentro do permitido(01 - 60)\n",
        "      # Caso não esteja gera um número aleatório     \n",
        "\n",
        "      if(number >= 1 and number <= 60):\n",
        "        return number\n",
        "      return random.randint(1 , 60)\n",
        "\n",
        "  def checkInNumbers(self ,number):\n",
        "    # Checa se um número , seja ele aleatório ou passado por argumento , já está presente no array de números do bilhete\n",
        "    # Caso já esteja presente no array, gera um número aleatório até que seja gerado um número que não está presente no array.\n",
        "\n",
        "    while number in self._numbers:\n",
        "      number = random.randint(1 , 60)\n",
        "    return number    \n",
        "\n",
        "    \n",
        "  def price(self):\n",
        "    # Tabela de preços dos bilhetes\n",
        "    # A key é a quantidade de números jogados e o value é o valor do bilhete.\n",
        "    pricingTable = {6 :  4.50 ,\n",
        "                    7 : 31.50 ,\n",
        "                    8 : 126 ,\n",
        "                    9 : 378.00 , \n",
        "                    10 : 945.00 ,\n",
        "                    11 : 2079 ,\n",
        "                    12 : 4158 ,\n",
        "                    13 : 7722 , \n",
        "                    14 : 13513.50 ,\n",
        "                    15 : 22522.50}\n",
        "    \n",
        "    return pricingTable[self._qntdNumbers]\n",
        "    #Retorna o preço do bilhete\n",
        "\n",
        "\n",
        "  @property\n",
        "  # Retorna todos os números do bilhete , caso não tenha nenhum número retorna 0\n",
        "  def numbers(self):\n",
        "    if(self._numbers):\n",
        "      return(self._numbers)\n",
        "    print('The ticket has no numbers or its invalid')\n",
        "    return 0\n",
        "    \n"
      ],
      "execution_count": null,
      "outputs": []
    },
    {
      "cell_type": "code",
      "metadata": {
        "id": "VUWAyBwLervf",
        "colab": {
          "base_uri": "https://localhost:8080/"
        },
        "outputId": "c6fc4b75-4b2e-4671-b094-548fcb888c3c"
      },
      "source": [
        "ordinaryTicket = Ticket(6)"
      ],
      "execution_count": null,
      "outputs": [
        {
          "output_type": "stream",
          "name": "stdout",
          "text": [
            "Ticket successfully created\n"
          ]
        }
      ]
    },
    {
      "cell_type": "code",
      "metadata": {
        "id": "EyUVJWmirchx",
        "colab": {
          "base_uri": "https://localhost:8080/"
        },
        "outputId": "f9ca059c-b298-4643-9ddb-801673ba8be7"
      },
      "source": [
        "ordinaryTicket.fill(3 ,\t16 , 17 ,\t37 ,\t38 , 53)"
      ],
      "execution_count": null,
      "outputs": [
        {
          "output_type": "stream",
          "name": "stdout",
          "text": [
            "Ticket filled\n"
          ]
        }
      ]
    },
    {
      "cell_type": "code",
      "metadata": {
        "id": "q_z_NmVWrWQx",
        "colab": {
          "base_uri": "https://localhost:8080/"
        },
        "outputId": "361f9983-cd09-43e9-b898-b6a90d82ad0a"
      },
      "source": [
        "ordinaryTicket.numbers"
      ],
      "execution_count": null,
      "outputs": [
        {
          "output_type": "execute_result",
          "data": {
            "text/plain": [
              "[3, 16, 17, 37, 38, 53]"
            ]
          },
          "metadata": {},
          "execution_count": 20
        }
      ]
    },
    {
      "cell_type": "code",
      "metadata": {
        "id": "kwHyS6For_S9",
        "colab": {
          "base_uri": "https://localhost:8080/"
        },
        "outputId": "44d5aef6-ad00-4762-def4-dde4c1286d37"
      },
      "source": [
        "ordinaryTicket.price()"
      ],
      "execution_count": null,
      "outputs": [
        {
          "output_type": "execute_result",
          "data": {
            "text/plain": [
              "4.5"
            ]
          },
          "metadata": {},
          "execution_count": 21
        }
      ]
    },
    {
      "cell_type": "code",
      "metadata": {
        "id": "vN3RXhWMy8Qz"
      },
      "source": [
        "class Lottery():\n",
        "  def __init__(self , Data):\n",
        "      self._dataLottery = Data.HandleData() # Dataframe com todos os dados tratados\n",
        "      self._data2021 = Data.Year2021() # Dataframe com todos os dados de 2021\n",
        "      self._tickets = [] # Array com todos os bilhetes jogados na loteria\n",
        "      self._prizes = [] # Array com todos os prêmios ganhos\n",
        "\n",
        "  def _draw(self , dataOfDraw, Ticket):\n",
        "    # Método responsável pelo sorteio\n",
        "\n",
        "    # Verifica se o ticket inserido está preenchido\n",
        "    if not (Ticket.numbers):\n",
        "      return 'Não foi possível realizar o sorteio - Ticket inválido ou vazio'\n",
        "\n",
        "    matched = [] # Numeros que deram match com os números da Mega-Sena.\n",
        "    hits = 0 # Acertos\n",
        "    wins = 0 # Quantiade de bilhetes premiados\n",
        "    self._tickets.append(Ticket) # Coloca o ticket no array\n",
        "    \n",
        "    # Compara os números do bilhete com todos os números da loteria.Caso acerte o número , soma 1 ao número de acertos\n",
        "    for index , row in dataOfDraw.iterrows(): \n",
        "      for i in range(1 , 7):\n",
        "        if(row[f'Coluna {i}'] in (Ticket.numbers)):\n",
        "          hits+=1\n",
        "          matched.append(row[f'Coluna {i}'])\n",
        "\n",
        "      # Caso a quantidade de acertos seja maior ou igual a 4 , exibe o número do concurso , a data  , calcula o premio e exibe o lucro\n",
        "      if(hits >= 4):\n",
        "        wins += 1\n",
        "        date = row['Data do Sorteio'].to_pydatetime().strftime(\"%d/%m/%Y\")\n",
        "        contest = row['Concurso']\n",
        "        prize = float(format(self.calcPrize(contest , hits) , '.2f'))\n",
        "        print(f\"Você teve {hits} acertos ({matched}), no concurso nº{contest} do dia {date} e ganhou R${prize}\")\n",
        "        self.showProfit(prize , Ticket)      \n",
        "\n",
        "      hits = 0\n",
        "      matched.clear()\n",
        "\n",
        "    # Caso não aconteça nenhum acerto mostra uma mensagem \n",
        "    if(wins == 0):\n",
        "      self.showProfit(0 , Ticket)      \n",
        "      print(\"Você não acertou nenhuma aposta\")\n",
        "    \n",
        "\n",
        "  def generalDraw(self , Ticket):\n",
        "    # Faz o sorteio com todos os concursos dos dados tratados do dataset\n",
        "    self._draw(self._dataLottery , Ticket)\n",
        "\n",
        "    \n",
        "  def drawIn2021(self , Ticket):\n",
        "    # Faz o sorteio apenas com os concursos de 2021 do dataset\n",
        "    self._draw(self._data2021 , Ticket)\n",
        "\n",
        "  \n",
        "  def checkContest(self , contest):\n",
        "    # Retorna o dataFrame , a partir do número do concurso\n",
        "    dataFrame = self._dataLottery.loc[(self._dataLottery['Concurso']) == contest]\n",
        "    return dataFrame\n",
        "  \n",
        "  def calcPrize(self ,contest , hits):\n",
        "    dataPrize = self.checkContest(contest)\n",
        "\n",
        "    #ATENÇÃO\n",
        "    #Alguns concursos antigos possuem o valor arrecadado zerado e consequentemente não foi possível calcular o valor do prẽmio.\n",
        "\n",
        "    # Apenas 43.35% do valor arrecadado é destinado ao prêmio\n",
        "    value = (dataPrize.iloc[0 ,14]) * (43.35 / 100)\n",
        "    \t\t\n",
        "    # Calcula o preço do prêmio da seguinte forma:\n",
        "    # Calcula a porcentagem de acordo com o número de acertos e posteriormente divide esse valor pela quantidade de ganhadores + 1\n",
        "\n",
        "    if(hits == 4): \n",
        "      prize = (value * (19 / 100)) / ((dataPrize.iloc[0 , 10]) + 1)   \n",
        "    \n",
        "    elif(hits== 5):\n",
        "      prize = (value * (19 / 100)) / ((dataPrize.iloc[0 , 9]) + 1)\n",
        "           \n",
        "    elif(hits== 6):\n",
        "      prize = value * (35 / 100) / ((dataPrize.iloc[0 , 8]) + 1)\n",
        "     \n",
        "    return prize \n",
        "\n",
        " \n",
        "  def showProfit( self , prize , Ticket):\n",
        "    # Calcula o lucro de um único bilhete , subtraindo o valor do prêmio pelo preço do bilhete\n",
        "    profit = prize - Ticket.price()\n",
        "    self._prizes.append(profit)\n",
        "\n",
        "    if(profit >= 0):\n",
        "      print(f\"O lucro foi de R${profit}\")\n",
        "    else:\n",
        "      print(f\"O prejuízo foi de R${profit}\")\n",
        "\n",
        "\n",
        "  def showTotalProfit(self):\n",
        "    # Calcula o lucro de todos os bilhetes jogados\n",
        "    totalProfit = sum(self._prizes)\n",
        "    qntTickets = len(self._tickets)\n",
        "\n",
        "    totalProfit = float(format((totalProfit) , '.2f'))\n",
        "\n",
        "    if(totalProfit >= 0):\n",
        "      print(f\"O lucro total foi de R${totalProfit} em {qntTickets} apostas\")\n",
        "    else:\n",
        "      print(f\"O prejuízo total foi de R${totalProfit} em {qntTickets} apostas\")\n",
        "\n",
        "  def resetTickets(self):\n",
        "    # Esvazia o array de tickets e o de prẽmios\n",
        "    self._tickets.clear()\n",
        "    self._prizes.clear()\n",
        "    \n",
        "  @property\n",
        "  # Retorna todos os bilhetes jogados\n",
        "  def tickets(self):\n",
        "    if(self._tickets):\n",
        "      for ticket in self._tickets:\n",
        "        print(ticket.numbers)\n",
        "    else:\n",
        "      print(\"Ainda não há bilhetes\")"
      ],
      "execution_count": null,
      "outputs": []
    },
    {
      "cell_type": "code",
      "metadata": {
        "id": "w5ej2dj9puW-",
        "colab": {
          "base_uri": "https://localhost:8080/"
        },
        "outputId": "c8583733-05d7-42fe-9819-7eaec04aa497"
      },
      "source": [
        "ordinaryTicket2 = Ticket(10)"
      ],
      "execution_count": null,
      "outputs": [
        {
          "output_type": "stream",
          "name": "stdout",
          "text": [
            "Ticket successfully created\n"
          ]
        }
      ]
    },
    {
      "cell_type": "code",
      "metadata": {
        "id": "WdZVpRg789JO",
        "colab": {
          "base_uri": "https://localhost:8080/"
        },
        "outputId": "2649bb61-1cb7-4ef3-c037-d3e05bee04d7"
      },
      "source": [
        "ordinaryTicket2.fill(6 , 10 , 21 , 37 , 39 , 55 ,2 ,17 , 41 , 60)"
      ],
      "execution_count": null,
      "outputs": [
        {
          "output_type": "stream",
          "name": "stdout",
          "text": [
            "Ticket filled\n"
          ]
        }
      ]
    },
    {
      "cell_type": "code",
      "metadata": {
        "colab": {
          "base_uri": "https://localhost:8080/"
        },
        "id": "L3_jNXMyOUsU",
        "outputId": "373e05ca-aec4-4c31-8aea-68f9f2b555dc"
      },
      "source": [
        "ordinaryTicket2.numbers"
      ],
      "execution_count": null,
      "outputs": [
        {
          "output_type": "execute_result",
          "data": {
            "text/plain": [
              "[6, 10, 21, 37, 39, 55, 2, 17, 41, 60]"
            ]
          },
          "metadata": {},
          "execution_count": 25
        }
      ]
    },
    {
      "cell_type": "code",
      "metadata": {
        "id": "1PaH-cb589Tf"
      },
      "source": [
        "Mega_Sena = Lottery(MegaSenaData)"
      ],
      "execution_count": null,
      "outputs": []
    },
    {
      "cell_type": "code",
      "metadata": {
        "id": "pq4srq2n89gR",
        "colab": {
          "base_uri": "https://localhost:8080/"
        },
        "outputId": "bca7d02f-cb25-4171-9e45-03c71560af25"
      },
      "source": [
        "Mega_Sena.generalDraw(ordinaryTicket2)"
      ],
      "execution_count": null,
      "outputs": [
        {
          "output_type": "stream",
          "name": "stdout",
          "text": [
            "Você teve 4 acertos ([2.0, 10.0, 39.0, 60.0]), no concurso nº91.0 do dia 30/11/1997 e ganhou R$0.0\n",
            "O prejuízo foi de R$-945.0\n",
            "Você teve 4 acertos ([6.0, 37.0, 39.0, 41.0]), no concurso nº161.0 do dia 03/04/1999 e ganhou R$0.0\n",
            "O prejuízo foi de R$-945.0\n",
            "Você teve 4 acertos ([2.0, 10.0, 17.0, 60.0]), no concurso nº706.0 do dia 15/10/2005 e ganhou R$0.0\n",
            "O prejuízo foi de R$-945.0\n",
            "Você teve 4 acertos ([6.0, 10.0, 39.0, 60.0]), no concurso nº1266.0 do dia 16/03/2011 e ganhou R$396.25\n",
            "O prejuízo foi de R$-548.75\n",
            "Você teve 4 acertos ([6.0, 39.0, 41.0, 55.0]), no concurso nº1764.0 do dia 25/11/2015 e ganhou R$976.98\n",
            "O lucro foi de R$31.980000000000018\n",
            "Você teve 4 acertos ([6.0, 10.0, 17.0, 37.0]), no concurso nº2000.0 do dia 31/12/2017 e ganhou R$423.13\n",
            "O prejuízo foi de R$-521.87\n",
            "Você teve 4 acertos ([10.0, 17.0, 37.0, 41.0]), no concurso nº2141.0 do dia 10/04/2019 e ganhou R$516.8\n",
            "O prejuízo foi de R$-428.20000000000005\n",
            "Você teve 4 acertos ([2.0, 17.0, 21.0, 60.0]), no concurso nº2188.0 do dia 14/09/2019 e ganhou R$780.15\n",
            "O prejuízo foi de R$-164.85000000000002\n"
          ]
        }
      ]
    },
    {
      "cell_type": "code",
      "metadata": {
        "id": "kWCJpYRs2pQi",
        "colab": {
          "base_uri": "https://localhost:8080/"
        },
        "outputId": "69604655-40bf-4c7a-a7b7-68244fbbec42"
      },
      "source": [
        "ordinaryTicket3 = Ticket(7)"
      ],
      "execution_count": null,
      "outputs": [
        {
          "output_type": "stream",
          "name": "stdout",
          "text": [
            "Ticket successfully created\n"
          ]
        }
      ]
    },
    {
      "cell_type": "code",
      "metadata": {
        "id": "6fqZBV4wBL2x",
        "colab": {
          "base_uri": "https://localhost:8080/",
          "height": 36
        },
        "outputId": "ac4348f7-9272-4c9e-9976-b0274462e9b3"
      },
      "source": [
        "ordinaryTicket3.fill(6 , 15 , 24 , 35 , 39 , 58)"
      ],
      "execution_count": null,
      "outputs": [
        {
          "output_type": "execute_result",
          "data": {
            "application/vnd.google.colaboratory.intrinsic+json": {
              "type": "string"
            },
            "text/plain": [
              "'Invalid amount of numbers'"
            ]
          },
          "metadata": {},
          "execution_count": 29
        }
      ]
    },
    {
      "cell_type": "code",
      "metadata": {
        "id": "EBLjVpY1BYKt",
        "colab": {
          "base_uri": "https://localhost:8080/"
        },
        "outputId": "36daa093-53c8-4a3d-dd77-7367d1637d4b"
      },
      "source": [
        "Mega_Sena.generalDraw(ordinaryTicket3)"
      ],
      "execution_count": null,
      "outputs": [
        {
          "output_type": "stream",
          "name": "stdout",
          "text": [
            "The ticket has no numbers or its invalid\n"
          ]
        }
      ]
    },
    {
      "cell_type": "code",
      "metadata": {
        "id": "eoA7v_TFLgGi",
        "colab": {
          "base_uri": "https://localhost:8080/"
        },
        "outputId": "91198366-1184-4fec-b725-0a6aa27a966d"
      },
      "source": [
        "Mega_Sena.drawIn2021(ordinaryTicket)"
      ],
      "execution_count": null,
      "outputs": [
        {
          "output_type": "stream",
          "name": "stdout",
          "text": [
            "Você teve 6 acertos ([3.0, 16.0, 17.0, 37.0, 38.0, 53.0]), no concurso nº2424.0 do dia 30/10/2021 e ganhou R$10916144.77\n",
            "O lucro foi de R$10916140.27\n"
          ]
        }
      ]
    },
    {
      "cell_type": "code",
      "metadata": {
        "id": "OgOzR3J6BoZD",
        "colab": {
          "base_uri": "https://localhost:8080/"
        },
        "outputId": "420017d3-92ed-4127-f955-42514f5754ad"
      },
      "source": [
        "Mega_Sena.tickets"
      ],
      "execution_count": null,
      "outputs": [
        {
          "output_type": "stream",
          "name": "stdout",
          "text": [
            "[6, 10, 21, 37, 39, 55, 2, 17, 41, 60]\n",
            "[3, 16, 17, 37, 38, 53]\n"
          ]
        }
      ]
    },
    {
      "cell_type": "code",
      "metadata": {
        "id": "GoruIu82CbJn",
        "colab": {
          "base_uri": "https://localhost:8080/"
        },
        "outputId": "299d71d0-176e-4ab1-fa95-93094e5b6116"
      },
      "source": [
        "Mega_Sena.showTotalProfit()"
      ],
      "execution_count": null,
      "outputs": [
        {
          "output_type": "stream",
          "name": "stdout",
          "text": [
            "O lucro total foi de R$10911673.58 em 2 apostas\n"
          ]
        }
      ]
    },
    {
      "cell_type": "code",
      "metadata": {
        "id": "QBSFvStw4w6q"
      },
      "source": [
        "class TicketByYears(Ticket):\n",
        "  def __init__(self , qntdNumbers , Data ,firstYear , lastYear):\n",
        "      super().__init__(qntdNumbers)\n",
        "      self._firstYear = firstYear \n",
        "      self._lastYear = lastYear\n",
        "      self._numbers = []\n",
        "      self._dataTicket = Data.HandleData()\n",
        "\n",
        "  def fill(self):  \n",
        "    # Checa se o bilhete já foi preenchido\n",
        "    if(self._numbers):\n",
        "      return 'Bilhete ja foi preenchido'\n",
        "  \n",
        "    # Gera o bilhete com base na moda dos concursos já realizados no intervalo de anos escolhido.\n",
        "    dataYear = self._dataTicket.loc[((self._dataTicket['Data do Sorteio'].dt.year) >= self._firstYear) & ((self._dataTicket['Data do Sorteio'].dt.year <= self._lastYear))]\n",
        "    modeTicket = dataYear.mode().dropna()[['Coluna 1' , 'Coluna 2' , 'Coluna 3' , 'Coluna 4' , 'Coluna 5' , 'Coluna 6']]\n",
        "    \n",
        "    # Preenche os números do bilhete com as modas\n",
        "    for i in range(0 , 6): \n",
        "      self._numbers.append(modeTicket.iloc[0 , i])\n",
        "    \n",
        "    \n",
        "    # Caso a quantidade de números informada previamente seja maior que 6(aposta mínima) , o algoritmo completa a parte faltante com números aleatórios e não repetidos.\n",
        "    if(self._qntdNumbers > 6):\n",
        "      excess = self._qntdNumbers - 6\n",
        "      for i in range(0 , excess):\n",
        "        number = random.randint(1 , 60)\n",
        "        self._numbers.append(self.checkInNumbers(number))   \n",
        "    print(\"Ticket filled\")\n",
        "\n",
        "  @property\n",
        "  def firstYear(self):\n",
        "    return self._firstYear\n",
        "\n",
        "  @property\n",
        "  def lastYear(self):\n",
        "    return self._lastYear\n"
      ],
      "execution_count": null,
      "outputs": []
    },
    {
      "cell_type": "code",
      "metadata": {
        "id": "XCjjY-lp96uY",
        "colab": {
          "base_uri": "https://localhost:8080/"
        },
        "outputId": "6bc99e07-ac17-4823-9a41-470ba1d99ebd"
      },
      "source": [
        "ticket1 = TicketByYears(10 , MegaSenaData ,1996 , 2020)\n",
        "ticket2 = TicketByYears(6 , MegaSenaData , 2010 , 2020)\n",
        "ticket3 = TicketByYears(15 , MegaSenaData , 2015 , 2020)"
      ],
      "execution_count": null,
      "outputs": [
        {
          "output_type": "stream",
          "name": "stdout",
          "text": [
            "Ticket successfully created\n",
            "Ticket successfully created\n",
            "Ticket successfully created\n"
          ]
        }
      ]
    },
    {
      "cell_type": "code",
      "metadata": {
        "colab": {
          "base_uri": "https://localhost:8080/"
        },
        "id": "F0Et46MP341G",
        "outputId": "98e153c3-8f66-4cdd-ec6d-cbcd01b3ca79"
      },
      "source": [
        "ticket1.fill()\n",
        "ticket2.fill()\n",
        "ticket3.fill()"
      ],
      "execution_count": null,
      "outputs": [
        {
          "output_type": "stream",
          "name": "stdout",
          "text": [
            "Ticket filled\n",
            "Ticket filled\n",
            "Ticket filled\n"
          ]
        }
      ]
    },
    {
      "cell_type": "code",
      "metadata": {
        "colab": {
          "base_uri": "https://localhost:8080/"
        },
        "id": "PSd4HZot4zxW",
        "outputId": "b596f46a-b89c-4ee2-af9e-ad680b1fee71"
      },
      "source": [
        "ticket1.numbers\n"
      ],
      "execution_count": null,
      "outputs": [
        {
          "output_type": "execute_result",
          "data": {
            "text/plain": [
              "[1.0, 16.0, 28.0, 33.0, 42.0, 60.0, 22, 32, 8, 30]"
            ]
          },
          "metadata": {},
          "execution_count": 37
        }
      ]
    },
    {
      "cell_type": "code",
      "metadata": {
        "colab": {
          "base_uri": "https://localhost:8080/"
        },
        "id": "so1UaQaV5noY",
        "outputId": "6e69d526-04e0-4816-c93e-ee166c78fb82"
      },
      "source": [
        "ticket2.numbers"
      ],
      "execution_count": null,
      "outputs": [
        {
          "output_type": "execute_result",
          "data": {
            "text/plain": [
              "[2.0, 10.0, 24.0, 35.0, 46.0, 60.0]"
            ]
          },
          "metadata": {},
          "execution_count": 38
        }
      ]
    },
    {
      "cell_type": "code",
      "metadata": {
        "colab": {
          "base_uri": "https://localhost:8080/"
        },
        "id": "Utz15QP_5lqJ",
        "outputId": "afeb4f01-0c55-47b7-f083-f97f18e97fb9"
      },
      "source": [
        "ticket3.numbers"
      ],
      "execution_count": null,
      "outputs": [
        {
          "output_type": "execute_result",
          "data": {
            "text/plain": [
              "[1.0, 10.0, 28.0, 35.0, 45.0, 59.0, 16, 37, 27, 18, 49, 11, 36, 25, 38]"
            ]
          },
          "metadata": {},
          "execution_count": 39
        }
      ]
    },
    {
      "cell_type": "code",
      "metadata": {
        "id": "vtHicZXYLJ72"
      },
      "source": [
        "Mega_Sena.resetTickets()"
      ],
      "execution_count": null,
      "outputs": []
    },
    {
      "cell_type": "code",
      "metadata": {
        "colab": {
          "base_uri": "https://localhost:8080/"
        },
        "id": "P66OtUpE3DtY",
        "outputId": "f22e28f5-74c6-4412-df53-68832f707668"
      },
      "source": [
        "Mega_Sena.drawIn2021(ticket1)"
      ],
      "execution_count": null,
      "outputs": [
        {
          "output_type": "stream",
          "name": "stdout",
          "text": [
            "O prejuízo foi de R$-945.0\n",
            "Você não acertou nenhuma aposta\n"
          ]
        }
      ]
    },
    {
      "cell_type": "code",
      "metadata": {
        "colab": {
          "base_uri": "https://localhost:8080/"
        },
        "id": "TJw-opPR3IHy",
        "outputId": "53f2cfc1-4646-4001-8d95-bc3c2a6a7bed"
      },
      "source": [
        "Mega_Sena.drawIn2021(ticket2)"
      ],
      "execution_count": null,
      "outputs": [
        {
          "output_type": "stream",
          "name": "stdout",
          "text": [
            "O prejuízo foi de R$-4.5\n",
            "Você não acertou nenhuma aposta\n"
          ]
        }
      ]
    },
    {
      "cell_type": "code",
      "metadata": {
        "colab": {
          "base_uri": "https://localhost:8080/"
        },
        "id": "gN0seYup3Lms",
        "outputId": "bf790f03-18ad-47f4-8d92-51f53d7d7453"
      },
      "source": [
        "Mega_Sena.drawIn2021(ticket3)"
      ],
      "execution_count": null,
      "outputs": [
        {
          "output_type": "stream",
          "name": "stdout",
          "text": [
            "Você teve 4 acertos ([11.0, 37.0, 38.0, 49.0]), no concurso nº2378.0 do dia 05/06/2021 e ganhou R$1255.39\n",
            "O prejuízo foi de R$-21267.11\n",
            "Você teve 4 acertos ([11.0, 16.0, 35.0, 49.0]), no concurso nº2386.0 do dia 01/07/2021 e ganhou R$923.94\n",
            "O prejuízo foi de R$-21598.56\n",
            "Você teve 4 acertos ([10.0, 27.0, 35.0, 59.0]), no concurso nº2410.0 do dia 18/09/2021 e ganhou R$695.65\n",
            "O prejuízo foi de R$-21826.85\n"
          ]
        }
      ]
    },
    {
      "cell_type": "code",
      "metadata": {
        "colab": {
          "base_uri": "https://localhost:8080/"
        },
        "id": "OgzF9waiNbN4",
        "outputId": "4cdc4693-b96b-4b80-e39f-26ad713381e9"
      },
      "source": [
        "Mega_Sena.tickets"
      ],
      "execution_count": null,
      "outputs": [
        {
          "output_type": "stream",
          "name": "stdout",
          "text": [
            "[1.0, 16.0, 28.0, 33.0, 42.0, 60.0, 22, 32, 8, 30]\n",
            "[2.0, 10.0, 24.0, 35.0, 46.0, 60.0]\n",
            "[1.0, 10.0, 28.0, 35.0, 45.0, 59.0, 16, 37, 27, 18, 49, 11, 36, 25, 38]\n"
          ]
        }
      ]
    },
    {
      "cell_type": "code",
      "metadata": {
        "colab": {
          "base_uri": "https://localhost:8080/"
        },
        "id": "lfz1E30vOALG",
        "outputId": "233d3705-767f-4e93-c942-f0524d6e2b13"
      },
      "source": [
        "Mega_Sena.showTotalProfit()"
      ],
      "execution_count": null,
      "outputs": [
        {
          "output_type": "stream",
          "name": "stdout",
          "text": [
            "O prejuízo total foi de R$-65642.02 em 3 apostas\n"
          ]
        }
      ]
    },
    {
      "cell_type": "code",
      "metadata": {
        "id": "_6ysLsHWEhfD"
      },
      "source": [
        "class SpecialTicket(Ticket):\n",
        "  def __init__(self, qntdNumbers , Data):\n",
        "    super().__init__(qntdNumbers)\n",
        "    self._dataTicket = Data.HandleData()\n",
        "    self._numbers = []\n",
        "\n",
        "  def fill(self):\n",
        "    # Checa se o bilhete já foi preenchido\n",
        "    if(self._numbers):\n",
        "      return 'Bilhete ja foi preenchido'\n",
        "    \n",
        "    # Pega a moda de todos os concursos já feitos até os dias atuais e preenche o bilhete \n",
        "    specialData = self._dataTicket.mode().dropna()[['Coluna 1' , 'Coluna 2' , 'Coluna 3' , 'Coluna 4' , 'Coluna 5' , 'Coluna 6']]\n",
        "    for i in range(0 , 6): \n",
        "      self._numbers.append(specialData.iloc[0 , i])\n",
        "\n",
        "    # Caso a quantidade de números escolhida seja maior que 6 , o bilhete será preenchido com números aleatórios entre 1 e 6 somados com o valor de suas respectivas colunas.\n",
        "    if(self._qntdNumbers > 6):\n",
        "      excess = self._qntdNumbers - 6\n",
        "      for i in range(0 , excess):\n",
        "        randomNumber = random.randint(1 , 6) # Gera um aleatório entre 1 e 6\n",
        "        number = specialData[f'Coluna {randomNumber}'].iloc[0] + randomNumber # Soma o número aleatório ao valor de sua respectiva coluna\n",
        "        number = self.checkInNumbers(self.checkNumber(number)) # Checa se o valor já se encontra no bilhete e está no intervalo permitido,caso já esteja retorna um valor aleatório entre 1 e 60\n",
        "        self._numbers.append(number)\n",
        "    \n",
        "    print(\"Ticket filled\")"
      ],
      "execution_count": null,
      "outputs": []
    },
    {
      "cell_type": "code",
      "metadata": {
        "colab": {
          "base_uri": "https://localhost:8080/"
        },
        "id": "erHrDiwmo96F",
        "outputId": "43ef3cfc-e19f-4e38-b4fb-a94f7c9a56c2"
      },
      "source": [
        "specialTicket = SpecialTicket(15 , MegaSenaData)"
      ],
      "execution_count": null,
      "outputs": [
        {
          "output_type": "stream",
          "name": "stdout",
          "text": [
            "Ticket successfully created\n"
          ]
        }
      ]
    },
    {
      "cell_type": "code",
      "metadata": {
        "colab": {
          "base_uri": "https://localhost:8080/"
        },
        "id": "zy4Sg4i1pEAO",
        "outputId": "c3d1e3f0-f4a4-4526-9a6f-4581030a203c"
      },
      "source": [
        "specialTicket.fill()"
      ],
      "execution_count": null,
      "outputs": [
        {
          "output_type": "stream",
          "name": "stdout",
          "text": [
            "Ticket filled\n"
          ]
        }
      ]
    },
    {
      "cell_type": "code",
      "metadata": {
        "colab": {
          "base_uri": "https://localhost:8080/"
        },
        "id": "p5REjkddrAYc",
        "outputId": "59aff5c7-9b61-4180-c26e-7e6e37fd3b81"
      },
      "source": [
        "specialTicket.numbers"
      ],
      "execution_count": null,
      "outputs": [
        {
          "output_type": "execute_result",
          "data": {
            "text/plain": [
              "[1.0, 16.0, 28.0, 37.0, 42.0, 60.0, 47.0, 41.0, 2.0, 31.0, 58, 18, 46, 45, 25]"
            ]
          },
          "metadata": {},
          "execution_count": 49
        }
      ]
    },
    {
      "cell_type": "code",
      "metadata": {
        "colab": {
          "base_uri": "https://localhost:8080/"
        },
        "id": "tfQ06h9Du0FO",
        "outputId": "5fa380f2-1457-46f8-84ea-bf18b8f8c0dd"
      },
      "source": [
        "specialTicket.price()"
      ],
      "execution_count": null,
      "outputs": [
        {
          "output_type": "execute_result",
          "data": {
            "text/plain": [
              "22522.5"
            ]
          },
          "metadata": {},
          "execution_count": 50
        }
      ]
    },
    {
      "cell_type": "code",
      "metadata": {
        "id": "1kiCd5wEvO39"
      },
      "source": [
        "Mega_Sena.resetTickets()"
      ],
      "execution_count": null,
      "outputs": []
    },
    {
      "cell_type": "code",
      "metadata": {
        "colab": {
          "base_uri": "https://localhost:8080/"
        },
        "id": "ryalPf6VuuQN",
        "outputId": "915086f0-6b6e-402b-aebb-ffe04a35ea49"
      },
      "source": [
        "Mega_Sena.drawIn2021(specialTicket)"
      ],
      "execution_count": null,
      "outputs": [
        {
          "output_type": "stream",
          "name": "stdout",
          "text": [
            "Você teve 4 acertos ([25.0, 28.0, 41.0, 45.0]), no concurso nº2350.0 do dia 06/03/2021 e ganhou R$1293.76\n",
            "O prejuízo foi de R$-21228.74\n"
          ]
        }
      ]
    },
    {
      "cell_type": "code",
      "metadata": {
        "colab": {
          "base_uri": "https://localhost:8080/"
        },
        "id": "hdj6pDtdvJYh",
        "outputId": "8b251b3c-c056-4e82-e11c-fc075ea5d1df"
      },
      "source": [
        "Mega_Sena.showTotalProfit()"
      ],
      "execution_count": null,
      "outputs": [
        {
          "output_type": "stream",
          "name": "stdout",
          "text": [
            "O prejuízo total foi de R$-21228.74 em 1 apostas\n"
          ]
        }
      ]
    },
    {
      "cell_type": "code",
      "metadata": {
        "id": "5B3OU0ZnEZ46"
      },
      "source": [
        "class SuperTicket(Ticket):\n",
        "  def __init__(self, qntdNumbers):\n",
        "    super().__init__(qntdNumbers)\n",
        "    self._numbers = []\n",
        "\n",
        "\n",
        "  def fill(self):\n",
        "    # Checa se o bilhete já foi preenchido\n",
        "    if(self._numbers):\n",
        "      return 'Bilhete já foi preenchido'\n",
        "\n",
        "\n",
        "    # Preenche o bilhete com números aleatórios gerados entre cada número e seu próximo número no array abaixo.\n",
        "    array = [1 , 10 , 20 , 30 , 40 , 50 , 60]\n",
        "    i = 0\n",
        "    j = 0\n",
        "\n",
        "    while(i < self._qntdNumbers):\n",
        "      if(i == 6 or i == 12):\n",
        "        j = 0\n",
        "      ramdomNumber = random.randint(array[j] , array[j + 1])\n",
        "      number = self.checkInNumbers(self.checkNumber(ramdomNumber))\n",
        "      self._numbers.append(number)\n",
        "      i+=1\n",
        "      j+=1\n",
        "    print(\"Ticket filled\")\n",
        "\n",
        "\n",
        "\n"
      ],
      "execution_count": null,
      "outputs": []
    },
    {
      "cell_type": "code",
      "metadata": {
        "colab": {
          "base_uri": "https://localhost:8080/"
        },
        "id": "bnEmTFjfDwZO",
        "outputId": "cf42315b-0865-4d0c-de2f-8e78a0b0801b"
      },
      "source": [
        "superTicket1 = SuperTicket(15)"
      ],
      "execution_count": null,
      "outputs": [
        {
          "output_type": "stream",
          "name": "stdout",
          "text": [
            "Ticket successfully created\n"
          ]
        }
      ]
    },
    {
      "cell_type": "code",
      "metadata": {
        "colab": {
          "base_uri": "https://localhost:8080/"
        },
        "id": "1XvucHWcD34D",
        "outputId": "8eb90ed9-ce65-4568-a0e2-a98619abf586"
      },
      "source": [
        "superTicket1.price()"
      ],
      "execution_count": null,
      "outputs": [
        {
          "output_type": "execute_result",
          "data": {
            "text/plain": [
              "22522.5"
            ]
          },
          "metadata": {},
          "execution_count": 56
        }
      ]
    },
    {
      "cell_type": "code",
      "metadata": {
        "id": "1TqK0lpzEAuq",
        "colab": {
          "base_uri": "https://localhost:8080/"
        },
        "outputId": "b7dcb8fc-93b3-4bc5-b3f5-ba2e3c77bbf5"
      },
      "source": [
        "superTicket1.fill()"
      ],
      "execution_count": null,
      "outputs": [
        {
          "output_type": "stream",
          "name": "stdout",
          "text": [
            "Ticket filled\n"
          ]
        }
      ]
    },
    {
      "cell_type": "code",
      "metadata": {
        "colab": {
          "base_uri": "https://localhost:8080/"
        },
        "id": "7O2oJx96D8g2",
        "outputId": "350ea250-b1f6-4676-f5a5-3a961add8805"
      },
      "source": [
        "superTicket1.numbers"
      ],
      "execution_count": null,
      "outputs": [
        {
          "output_type": "execute_result",
          "data": {
            "text/plain": [
              "[6, 17, 25, 35, 42, 50, 10, 14, 28, 32, 44, 53, 5, 20, 23]"
            ]
          },
          "metadata": {},
          "execution_count": 58
        }
      ]
    },
    {
      "cell_type": "code",
      "metadata": {
        "colab": {
          "base_uri": "https://localhost:8080/"
        },
        "id": "wPh2xlUIBvD5",
        "outputId": "340daa76-ecad-4c20-8538-67646bf4f23f"
      },
      "source": [
        "superTicket1.price()"
      ],
      "execution_count": null,
      "outputs": [
        {
          "output_type": "execute_result",
          "data": {
            "text/plain": [
              "22522.5"
            ]
          },
          "metadata": {},
          "execution_count": 59
        }
      ]
    },
    {
      "cell_type": "code",
      "metadata": {
        "id": "uiJ4p2DrHTtX"
      },
      "source": [
        "Mega_Sena.resetTickets()"
      ],
      "execution_count": null,
      "outputs": []
    },
    {
      "cell_type": "code",
      "metadata": {
        "colab": {
          "base_uri": "https://localhost:8080/"
        },
        "id": "XsECG7-2HJMC",
        "outputId": "29f90038-e8e1-464c-c8c7-3fb86bd69ffe"
      },
      "source": [
        "Mega_Sena.drawIn2021(superTicket1)"
      ],
      "execution_count": null,
      "outputs": [
        {
          "output_type": "stream",
          "name": "stdout",
          "text": [
            "Você teve 4 acertos ([10.0, 20.0, 28.0, 50.0]), no concurso nº2336.0 do dia 20/01/2021 e ganhou R$744.87\n",
            "O prejuízo foi de R$-21777.63\n",
            "Você teve 4 acertos ([5.0, 10.0, 25.0, 32.0]), no concurso nº2349.0 do dia 03/03/2021 e ganhou R$684.44\n",
            "O prejuízo foi de R$-21838.06\n",
            "Você teve 4 acertos ([20.0, 32.0, 35.0, 50.0]), no concurso nº2362.0 do dia 14/04/2021 e ganhou R$1143.81\n",
            "O prejuízo foi de R$-21378.69\n",
            "Você teve 4 acertos ([17.0, 28.0, 44.0, 50.0]), no concurso nº2365.0 do dia 24/04/2021 e ganhou R$1166.08\n",
            "O prejuízo foi de R$-21356.42\n",
            "Você teve 4 acertos ([5.0, 25.0, 42.0, 44.0]), no concurso nº2394.0 do dia 28/07/2021 e ganhou R$802.73\n",
            "O prejuízo foi de R$-21719.77\n",
            "Você teve 4 acertos ([10.0, 35.0, 50.0, 53.0]), no concurso nº2419.0 do dia 16/10/2021 e ganhou R$1199.04\n",
            "O prejuízo foi de R$-21323.46\n"
          ]
        }
      ]
    },
    {
      "cell_type": "code",
      "metadata": {
        "colab": {
          "base_uri": "https://localhost:8080/"
        },
        "id": "TsnLp5NeHZos",
        "outputId": "2d24ecc3-fe19-45ac-a5f4-6fdb8b83354b"
      },
      "source": [
        "Mega_Sena.showTotalProfit()"
      ],
      "execution_count": null,
      "outputs": [
        {
          "output_type": "stream",
          "name": "stdout",
          "text": [
            "O prejuízo total foi de R$-129394.03 em 1 apostas\n"
          ]
        }
      ]
    }
  ]
}