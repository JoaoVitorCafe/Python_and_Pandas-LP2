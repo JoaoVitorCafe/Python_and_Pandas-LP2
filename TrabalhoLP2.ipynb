{
  "nbformat": 4,
  "nbformat_minor": 0,
  "metadata": {
    "colab": {
      "name": "TrabalhoLP2",
      "provenance": [],
      "collapsed_sections": []
    },
    "kernelspec": {
      "display_name": "Python 3",
      "name": "python3"
    },
    "language_info": {
      "name": "python"
    }
  },
  "cells": [
    {
      "cell_type": "code",
      "metadata": {
        "colab": {
          "resources": {
            "http://localhost:8080/nbextensions/google.colab/files.js": {
              "data": "Ly8gQ29weXJpZ2h0IDIwMTcgR29vZ2xlIExMQwovLwovLyBMaWNlbnNlZCB1bmRlciB0aGUgQXBhY2hlIExpY2Vuc2UsIFZlcnNpb24gMi4wICh0aGUgIkxpY2Vuc2UiKTsKLy8geW91IG1heSBub3QgdXNlIHRoaXMgZmlsZSBleGNlcHQgaW4gY29tcGxpYW5jZSB3aXRoIHRoZSBMaWNlbnNlLgovLyBZb3UgbWF5IG9idGFpbiBhIGNvcHkgb2YgdGhlIExpY2Vuc2UgYXQKLy8KLy8gICAgICBodHRwOi8vd3d3LmFwYWNoZS5vcmcvbGljZW5zZXMvTElDRU5TRS0yLjAKLy8KLy8gVW5sZXNzIHJlcXVpcmVkIGJ5IGFwcGxpY2FibGUgbGF3IG9yIGFncmVlZCB0byBpbiB3cml0aW5nLCBzb2Z0d2FyZQovLyBkaXN0cmlidXRlZCB1bmRlciB0aGUgTGljZW5zZSBpcyBkaXN0cmlidXRlZCBvbiBhbiAiQVMgSVMiIEJBU0lTLAovLyBXSVRIT1VUIFdBUlJBTlRJRVMgT1IgQ09ORElUSU9OUyBPRiBBTlkgS0lORCwgZWl0aGVyIGV4cHJlc3Mgb3IgaW1wbGllZC4KLy8gU2VlIHRoZSBMaWNlbnNlIGZvciB0aGUgc3BlY2lmaWMgbGFuZ3VhZ2UgZ292ZXJuaW5nIHBlcm1pc3Npb25zIGFuZAovLyBsaW1pdGF0aW9ucyB1bmRlciB0aGUgTGljZW5zZS4KCi8qKgogKiBAZmlsZW92ZXJ2aWV3IEhlbHBlcnMgZm9yIGdvb2dsZS5jb2xhYiBQeXRob24gbW9kdWxlLgogKi8KKGZ1bmN0aW9uKHNjb3BlKSB7CmZ1bmN0aW9uIHNwYW4odGV4dCwgc3R5bGVBdHRyaWJ1dGVzID0ge30pIHsKICBjb25zdCBlbGVtZW50ID0gZG9jdW1lbnQuY3JlYXRlRWxlbWVudCgnc3BhbicpOwogIGVsZW1lbnQudGV4dENvbnRlbnQgPSB0ZXh0OwogIGZvciAoY29uc3Qga2V5IG9mIE9iamVjdC5rZXlzKHN0eWxlQXR0cmlidXRlcykpIHsKICAgIGVsZW1lbnQuc3R5bGVba2V5XSA9IHN0eWxlQXR0cmlidXRlc1trZXldOwogIH0KICByZXR1cm4gZWxlbWVudDsKfQoKLy8gTWF4IG51bWJlciBvZiBieXRlcyB3aGljaCB3aWxsIGJlIHVwbG9hZGVkIGF0IGEgdGltZS4KY29uc3QgTUFYX1BBWUxPQURfU0laRSA9IDEwMCAqIDEwMjQ7CgpmdW5jdGlvbiBfdXBsb2FkRmlsZXMoaW5wdXRJZCwgb3V0cHV0SWQpIHsKICBjb25zdCBzdGVwcyA9IHVwbG9hZEZpbGVzU3RlcChpbnB1dElkLCBvdXRwdXRJZCk7CiAgY29uc3Qgb3V0cHV0RWxlbWVudCA9IGRvY3VtZW50LmdldEVsZW1lbnRCeUlkKG91dHB1dElkKTsKICAvLyBDYWNoZSBzdGVwcyBvbiB0aGUgb3V0cHV0RWxlbWVudCB0byBtYWtlIGl0IGF2YWlsYWJsZSBmb3IgdGhlIG5leHQgY2FsbAogIC8vIHRvIHVwbG9hZEZpbGVzQ29udGludWUgZnJvbSBQeXRob24uCiAgb3V0cHV0RWxlbWVudC5zdGVwcyA9IHN0ZXBzOwoKICByZXR1cm4gX3VwbG9hZEZpbGVzQ29udGludWUob3V0cHV0SWQpOwp9CgovLyBUaGlzIGlzIHJvdWdobHkgYW4gYXN5bmMgZ2VuZXJhdG9yIChub3Qgc3VwcG9ydGVkIGluIHRoZSBicm93c2VyIHlldCksCi8vIHdoZXJlIHRoZXJlIGFyZSBtdWx0aXBsZSBhc3luY2hyb25vdXMgc3RlcHMgYW5kIHRoZSBQeXRob24gc2lkZSBpcyBnb2luZwovLyB0byBwb2xsIGZvciBjb21wbGV0aW9uIG9mIGVhY2ggc3RlcC4KLy8gVGhpcyB1c2VzIGEgUHJvbWlzZSB0byBibG9jayB0aGUgcHl0aG9uIHNpZGUgb24gY29tcGxldGlvbiBvZiBlYWNoIHN0ZXAsCi8vIHRoZW4gcGFzc2VzIHRoZSByZXN1bHQgb2YgdGhlIHByZXZpb3VzIHN0ZXAgYXMgdGhlIGlucHV0IHRvIHRoZSBuZXh0IHN0ZXAuCmZ1bmN0aW9uIF91cGxvYWRGaWxlc0NvbnRpbnVlKG91dHB1dElkKSB7CiAgY29uc3Qgb3V0cHV0RWxlbWVudCA9IGRvY3VtZW50LmdldEVsZW1lbnRCeUlkKG91dHB1dElkKTsKICBjb25zdCBzdGVwcyA9IG91dHB1dEVsZW1lbnQuc3RlcHM7CgogIGNvbnN0IG5leHQgPSBzdGVwcy5uZXh0KG91dHB1dEVsZW1lbnQubGFzdFByb21pc2VWYWx1ZSk7CiAgcmV0dXJuIFByb21pc2UucmVzb2x2ZShuZXh0LnZhbHVlLnByb21pc2UpLnRoZW4oKHZhbHVlKSA9PiB7CiAgICAvLyBDYWNoZSB0aGUgbGFzdCBwcm9taXNlIHZhbHVlIHRvIG1ha2UgaXQgYXZhaWxhYmxlIHRvIHRoZSBuZXh0CiAgICAvLyBzdGVwIG9mIHRoZSBnZW5lcmF0b3IuCiAgICBvdXRwdXRFbGVtZW50Lmxhc3RQcm9taXNlVmFsdWUgPSB2YWx1ZTsKICAgIHJldHVybiBuZXh0LnZhbHVlLnJlc3BvbnNlOwogIH0pOwp9CgovKioKICogR2VuZXJhdG9yIGZ1bmN0aW9uIHdoaWNoIGlzIGNhbGxlZCBiZXR3ZWVuIGVhY2ggYXN5bmMgc3RlcCBvZiB0aGUgdXBsb2FkCiAqIHByb2Nlc3MuCiAqIEBwYXJhbSB7c3RyaW5nfSBpbnB1dElkIEVsZW1lbnQgSUQgb2YgdGhlIGlucHV0IGZpbGUgcGlja2VyIGVsZW1lbnQuCiAqIEBwYXJhbSB7c3RyaW5nfSBvdXRwdXRJZCBFbGVtZW50IElEIG9mIHRoZSBvdXRwdXQgZGlzcGxheS4KICogQHJldHVybiB7IUl0ZXJhYmxlPCFPYmplY3Q+fSBJdGVyYWJsZSBvZiBuZXh0IHN0ZXBzLgogKi8KZnVuY3Rpb24qIHVwbG9hZEZpbGVzU3RlcChpbnB1dElkLCBvdXRwdXRJZCkgewogIGNvbnN0IGlucHV0RWxlbWVudCA9IGRvY3VtZW50LmdldEVsZW1lbnRCeUlkKGlucHV0SWQpOwogIGlucHV0RWxlbWVudC5kaXNhYmxlZCA9IGZhbHNlOwoKICBjb25zdCBvdXRwdXRFbGVtZW50ID0gZG9jdW1lbnQuZ2V0RWxlbWVudEJ5SWQob3V0cHV0SWQpOwogIG91dHB1dEVsZW1lbnQuaW5uZXJIVE1MID0gJyc7CgogIGNvbnN0IHBpY2tlZFByb21pc2UgPSBuZXcgUHJvbWlzZSgocmVzb2x2ZSkgPT4gewogICAgaW5wdXRFbGVtZW50LmFkZEV2ZW50TGlzdGVuZXIoJ2NoYW5nZScsIChlKSA9PiB7CiAgICAgIHJlc29sdmUoZS50YXJnZXQuZmlsZXMpOwogICAgfSk7CiAgfSk7CgogIGNvbnN0IGNhbmNlbCA9IGRvY3VtZW50LmNyZWF0ZUVsZW1lbnQoJ2J1dHRvbicpOwogIGlucHV0RWxlbWVudC5wYXJlbnRFbGVtZW50LmFwcGVuZENoaWxkKGNhbmNlbCk7CiAgY2FuY2VsLnRleHRDb250ZW50ID0gJ0NhbmNlbCB1cGxvYWQnOwogIGNvbnN0IGNhbmNlbFByb21pc2UgPSBuZXcgUHJvbWlzZSgocmVzb2x2ZSkgPT4gewogICAgY2FuY2VsLm9uY2xpY2sgPSAoKSA9PiB7CiAgICAgIHJlc29sdmUobnVsbCk7CiAgICB9OwogIH0pOwoKICAvLyBXYWl0IGZvciB0aGUgdXNlciB0byBwaWNrIHRoZSBmaWxlcy4KICBjb25zdCBmaWxlcyA9IHlpZWxkIHsKICAgIHByb21pc2U6IFByb21pc2UucmFjZShbcGlja2VkUHJvbWlzZSwgY2FuY2VsUHJvbWlzZV0pLAogICAgcmVzcG9uc2U6IHsKICAgICAgYWN0aW9uOiAnc3RhcnRpbmcnLAogICAgfQogIH07CgogIGNhbmNlbC5yZW1vdmUoKTsKCiAgLy8gRGlzYWJsZSB0aGUgaW5wdXQgZWxlbWVudCBzaW5jZSBmdXJ0aGVyIHBpY2tzIGFyZSBub3QgYWxsb3dlZC4KICBpbnB1dEVsZW1lbnQuZGlzYWJsZWQgPSB0cnVlOwoKICBpZiAoIWZpbGVzKSB7CiAgICByZXR1cm4gewogICAgICByZXNwb25zZTogewogICAgICAgIGFjdGlvbjogJ2NvbXBsZXRlJywKICAgICAgfQogICAgfTsKICB9CgogIGZvciAoY29uc3QgZmlsZSBvZiBmaWxlcykgewogICAgY29uc3QgbGkgPSBkb2N1bWVudC5jcmVhdGVFbGVtZW50KCdsaScpOwogICAgbGkuYXBwZW5kKHNwYW4oZmlsZS5uYW1lLCB7Zm9udFdlaWdodDogJ2JvbGQnfSkpOwogICAgbGkuYXBwZW5kKHNwYW4oCiAgICAgICAgYCgke2ZpbGUudHlwZSB8fCAnbi9hJ30pIC0gJHtmaWxlLnNpemV9IGJ5dGVzLCBgICsKICAgICAgICBgbGFzdCBtb2RpZmllZDogJHsKICAgICAgICAgICAgZmlsZS5sYXN0TW9kaWZpZWREYXRlID8gZmlsZS5sYXN0TW9kaWZpZWREYXRlLnRvTG9jYWxlRGF0ZVN0cmluZygpIDoKICAgICAgICAgICAgICAgICAgICAgICAgICAgICAgICAgICAgJ24vYSd9IC0gYCkpOwogICAgY29uc3QgcGVyY2VudCA9IHNwYW4oJzAlIGRvbmUnKTsKICAgIGxpLmFwcGVuZENoaWxkKHBlcmNlbnQpOwoKICAgIG91dHB1dEVsZW1lbnQuYXBwZW5kQ2hpbGQobGkpOwoKICAgIGNvbnN0IGZpbGVEYXRhUHJvbWlzZSA9IG5ldyBQcm9taXNlKChyZXNvbHZlKSA9PiB7CiAgICAgIGNvbnN0IHJlYWRlciA9IG5ldyBGaWxlUmVhZGVyKCk7CiAgICAgIHJlYWRlci5vbmxvYWQgPSAoZSkgPT4gewogICAgICAgIHJlc29sdmUoZS50YXJnZXQucmVzdWx0KTsKICAgICAgfTsKICAgICAgcmVhZGVyLnJlYWRBc0FycmF5QnVmZmVyKGZpbGUpOwogICAgfSk7CiAgICAvLyBXYWl0IGZvciB0aGUgZGF0YSB0byBiZSByZWFkeS4KICAgIGxldCBmaWxlRGF0YSA9IHlpZWxkIHsKICAgICAgcHJvbWlzZTogZmlsZURhdGFQcm9taXNlLAogICAgICByZXNwb25zZTogewogICAgICAgIGFjdGlvbjogJ2NvbnRpbnVlJywKICAgICAgfQogICAgfTsKCiAgICAvLyBVc2UgYSBjaHVua2VkIHNlbmRpbmcgdG8gYXZvaWQgbWVzc2FnZSBzaXplIGxpbWl0cy4gU2VlIGIvNjIxMTU2NjAuCiAgICBsZXQgcG9zaXRpb24gPSAwOwogICAgZG8gewogICAgICBjb25zdCBsZW5ndGggPSBNYXRoLm1pbihmaWxlRGF0YS5ieXRlTGVuZ3RoIC0gcG9zaXRpb24sIE1BWF9QQVlMT0FEX1NJWkUpOwogICAgICBjb25zdCBjaHVuayA9IG5ldyBVaW50OEFycmF5KGZpbGVEYXRhLCBwb3NpdGlvbiwgbGVuZ3RoKTsKICAgICAgcG9zaXRpb24gKz0gbGVuZ3RoOwoKICAgICAgY29uc3QgYmFzZTY0ID0gYnRvYShTdHJpbmcuZnJvbUNoYXJDb2RlLmFwcGx5KG51bGwsIGNodW5rKSk7CiAgICAgIHlpZWxkIHsKICAgICAgICByZXNwb25zZTogewogICAgICAgICAgYWN0aW9uOiAnYXBwZW5kJywKICAgICAgICAgIGZpbGU6IGZpbGUubmFtZSwKICAgICAgICAgIGRhdGE6IGJhc2U2NCwKICAgICAgICB9LAogICAgICB9OwoKICAgICAgbGV0IHBlcmNlbnREb25lID0gZmlsZURhdGEuYnl0ZUxlbmd0aCA9PT0gMCA/CiAgICAgICAgICAxMDAgOgogICAgICAgICAgTWF0aC5yb3VuZCgocG9zaXRpb24gLyBmaWxlRGF0YS5ieXRlTGVuZ3RoKSAqIDEwMCk7CiAgICAgIHBlcmNlbnQudGV4dENvbnRlbnQgPSBgJHtwZXJjZW50RG9uZX0lIGRvbmVgOwoKICAgIH0gd2hpbGUgKHBvc2l0aW9uIDwgZmlsZURhdGEuYnl0ZUxlbmd0aCk7CiAgfQoKICAvLyBBbGwgZG9uZS4KICB5aWVsZCB7CiAgICByZXNwb25zZTogewogICAgICBhY3Rpb246ICdjb21wbGV0ZScsCiAgICB9CiAgfTsKfQoKc2NvcGUuZ29vZ2xlID0gc2NvcGUuZ29vZ2xlIHx8IHt9OwpzY29wZS5nb29nbGUuY29sYWIgPSBzY29wZS5nb29nbGUuY29sYWIgfHwge307CnNjb3BlLmdvb2dsZS5jb2xhYi5fZmlsZXMgPSB7CiAgX3VwbG9hZEZpbGVzLAogIF91cGxvYWRGaWxlc0NvbnRpbnVlLAp9Owp9KShzZWxmKTsK",
              "ok": true,
              "headers": [
                [
                  "content-type",
                  "application/javascript"
                ]
              ],
              "status": 200,
              "status_text": ""
            }
          },
          "base_uri": "https://localhost:8080/",
          "height": 71
        },
        "id": "NcW9hp916pT9",
        "outputId": "99fa8f5f-ff7d-4f7d-9fb4-11978b521f4e"
      },
      "source": [
        "import pandas as pd\n",
        "import matplotlib.pyplot as plt\n",
        "import numpy as np\n",
        "from google.colab import files\n",
        "uploaded = files.upload()"
      ],
      "execution_count": null,
      "outputs": [
        {
          "output_type": "display_data",
          "data": {
            "text/html": [
              "\n",
              "     <input type=\"file\" id=\"files-03844622-f921-4d4d-914a-86089c97111b\" name=\"files[]\" multiple disabled\n",
              "        style=\"border:none\" />\n",
              "     <output id=\"result-03844622-f921-4d4d-914a-86089c97111b\">\n",
              "      Upload widget is only available when the cell has been executed in the\n",
              "      current browser session. Please rerun this cell to enable.\n",
              "      </output>\n",
              "      <script src=\"/nbextensions/google.colab/files.js\"></script> "
            ],
            "text/plain": [
              "<IPython.core.display.HTML object>"
            ]
          },
          "metadata": {}
        },
        {
          "output_type": "stream",
          "name": "stdout",
          "text": [
            "Saving vacinas.xlsx to vacinas (2).xlsx\n"
          ]
        }
      ]
    },
    {
      "cell_type": "code",
      "metadata": {
        "id": "LaHi8PLWEvcS"
      },
      "source": [
        "class Data:\n",
        "  def __init__(self , file, country):\n",
        "      self._file = file\n",
        "      self._country = country\n",
        "      \n",
        "  def getTotalData(self):    \n",
        "    self._dataFile = pd.read_excel(f'{self._file}')\n",
        "    self._data = self._dataFile.loc[(self._dataFile['Município'] != '-')]\n",
        "    return self._data\n",
        "\n",
        "  def getStateData(self , state):\n",
        "      self._dataState = self.getTotalData().loc[(self.getTotalData()['UF'] == f'{state}')] \n",
        "      return self._dataState\n",
        "\n",
        "  def getRegionData(self , region):\n",
        "      self._dataRegion = self.getTotalData().loc[(self.getTotalData()['Região'] == f'{region}')] \n",
        "      return self._dataRegion\n",
        "\n",
        "  @property\n",
        "  def country(self):\n",
        "      return self._country\n",
        "\n",
        "  @country.setter\n",
        "  def country(self , country):\n",
        "    self._country = country\n",
        "\n",
        "  @property\n",
        "  def file(self):\n",
        "    return self._file\n",
        "\n",
        "  @file.setter\n",
        "  def file(self, file):\n",
        "    self._file = file"
      ],
      "execution_count": null,
      "outputs": []
    },
    {
      "cell_type": "code",
      "metadata": {
        "id": "05zK9vWaPokk"
      },
      "source": [
        "dataBrasil = Data('vacinas.xlsx' , 'Brasil')"
      ],
      "execution_count": null,
      "outputs": []
    },
    {
      "cell_type": "code",
      "metadata": {
        "colab": {
          "base_uri": "https://localhost:8080/",
          "height": 412
        },
        "id": "2YpLu_m-RLm_",
        "outputId": "32749c27-e26f-4d96-eac9-79aca42f1196"
      },
      "source": [
        "dataBrasil.getTotalData()"
      ],
      "execution_count": null,
      "outputs": [
        {
          "output_type": "execute_result",
          "data": {
            "text/html": [
              "<div>\n",
              "<style scoped>\n",
              "    .dataframe tbody tr th:only-of-type {\n",
              "        vertical-align: middle;\n",
              "    }\n",
              "\n",
              "    .dataframe tbody tr th {\n",
              "        vertical-align: top;\n",
              "    }\n",
              "\n",
              "    .dataframe thead th {\n",
              "        text-align: right;\n",
              "    }\n",
              "</style>\n",
              "<table border=\"1\" class=\"dataframe\">\n",
              "  <thead>\n",
              "    <tr style=\"text-align: right;\">\n",
              "      <th></th>\n",
              "      <th>Município</th>\n",
              "      <th>Cód. IBGE</th>\n",
              "      <th>UF</th>\n",
              "      <th>Região</th>\n",
              "      <th>Fabricante</th>\n",
              "      <th>Doses Aplicadas</th>\n",
              "      <th>Dose 1</th>\n",
              "      <th>Dose 2</th>\n",
              "    </tr>\n",
              "  </thead>\n",
              "  <tbody>\n",
              "    <tr>\n",
              "      <th>0</th>\n",
              "      <td>Abadia De Goiás</td>\n",
              "      <td>520005</td>\n",
              "      <td>GO</td>\n",
              "      <td>Centro-Oeste</td>\n",
              "      <td>FIOCRUZ/ASTRAZENECA</td>\n",
              "      <td>3560</td>\n",
              "      <td>2633</td>\n",
              "      <td>927</td>\n",
              "    </tr>\n",
              "    <tr>\n",
              "      <th>1</th>\n",
              "      <td>Abadia De Goiás</td>\n",
              "      <td>520005</td>\n",
              "      <td>GO</td>\n",
              "      <td>Centro-Oeste</td>\n",
              "      <td>BUTANTAN/SINOVAC</td>\n",
              "      <td>3125</td>\n",
              "      <td>1682</td>\n",
              "      <td>1443</td>\n",
              "    </tr>\n",
              "    <tr>\n",
              "      <th>2</th>\n",
              "      <td>Abadia De Goiás</td>\n",
              "      <td>520005</td>\n",
              "      <td>GO</td>\n",
              "      <td>Centro-Oeste</td>\n",
              "      <td>PFIZER/BIONTECH</td>\n",
              "      <td>1297</td>\n",
              "      <td>1297</td>\n",
              "      <td>0</td>\n",
              "    </tr>\n",
              "    <tr>\n",
              "      <th>3</th>\n",
              "      <td>Abadia De Goiás</td>\n",
              "      <td>520005</td>\n",
              "      <td>GO</td>\n",
              "      <td>Centro-Oeste</td>\n",
              "      <td>JANSSEN</td>\n",
              "      <td>65</td>\n",
              "      <td>0</td>\n",
              "      <td>0</td>\n",
              "    </tr>\n",
              "    <tr>\n",
              "      <th>4</th>\n",
              "      <td>Abadia Dos Dourados</td>\n",
              "      <td>310010</td>\n",
              "      <td>MG</td>\n",
              "      <td>Sudeste</td>\n",
              "      <td>FIOCRUZ/ASTRAZENECA</td>\n",
              "      <td>3624</td>\n",
              "      <td>2711</td>\n",
              "      <td>913</td>\n",
              "    </tr>\n",
              "    <tr>\n",
              "      <th>...</th>\n",
              "      <td>...</td>\n",
              "      <td>...</td>\n",
              "      <td>...</td>\n",
              "      <td>...</td>\n",
              "      <td>...</td>\n",
              "      <td>...</td>\n",
              "      <td>...</td>\n",
              "      <td>...</td>\n",
              "    </tr>\n",
              "    <tr>\n",
              "      <th>21878</th>\n",
              "      <td>Zé Doca</td>\n",
              "      <td>211400</td>\n",
              "      <td>MA</td>\n",
              "      <td>Nordeste</td>\n",
              "      <td>JANSSEN</td>\n",
              "      <td>362</td>\n",
              "      <td>0</td>\n",
              "      <td>0</td>\n",
              "    </tr>\n",
              "    <tr>\n",
              "      <th>21879</th>\n",
              "      <td>Zortéa</td>\n",
              "      <td>421985</td>\n",
              "      <td>SC</td>\n",
              "      <td>Sul</td>\n",
              "      <td>FIOCRUZ/ASTRAZENECA</td>\n",
              "      <td>1483</td>\n",
              "      <td>928</td>\n",
              "      <td>555</td>\n",
              "    </tr>\n",
              "    <tr>\n",
              "      <th>21880</th>\n",
              "      <td>Zortéa</td>\n",
              "      <td>421985</td>\n",
              "      <td>SC</td>\n",
              "      <td>Sul</td>\n",
              "      <td>BUTANTAN/SINOVAC</td>\n",
              "      <td>1200</td>\n",
              "      <td>706</td>\n",
              "      <td>494</td>\n",
              "    </tr>\n",
              "    <tr>\n",
              "      <th>21881</th>\n",
              "      <td>Zortéa</td>\n",
              "      <td>421985</td>\n",
              "      <td>SC</td>\n",
              "      <td>Sul</td>\n",
              "      <td>PFIZER/BIONTECH</td>\n",
              "      <td>855</td>\n",
              "      <td>854</td>\n",
              "      <td>1</td>\n",
              "    </tr>\n",
              "    <tr>\n",
              "      <th>21882</th>\n",
              "      <td>Zortéa</td>\n",
              "      <td>421985</td>\n",
              "      <td>SC</td>\n",
              "      <td>Sul</td>\n",
              "      <td>JANSSEN</td>\n",
              "      <td>110</td>\n",
              "      <td>0</td>\n",
              "      <td>0</td>\n",
              "    </tr>\n",
              "  </tbody>\n",
              "</table>\n",
              "<p>21883 rows × 8 columns</p>\n",
              "</div>"
            ],
            "text/plain": [
              "                 Município  Cód. IBGE  UF  ... Doses Aplicadas Dose 1  Dose 2\n",
              "0          Abadia De Goiás     520005  GO  ...            3560   2633     927\n",
              "1          Abadia De Goiás     520005  GO  ...            3125   1682    1443\n",
              "2          Abadia De Goiás     520005  GO  ...            1297   1297       0\n",
              "3          Abadia De Goiás     520005  GO  ...              65      0       0\n",
              "4      Abadia Dos Dourados     310010  MG  ...            3624   2711     913\n",
              "...                    ...        ...  ..  ...             ...    ...     ...\n",
              "21878              Zé Doca     211400  MA  ...             362      0       0\n",
              "21879               Zortéa     421985  SC  ...            1483    928     555\n",
              "21880               Zortéa     421985  SC  ...            1200    706     494\n",
              "21881               Zortéa     421985  SC  ...             855    854       1\n",
              "21882               Zortéa     421985  SC  ...             110      0       0\n",
              "\n",
              "[21883 rows x 8 columns]"
            ]
          },
          "metadata": {},
          "execution_count": 290
        }
      ]
    },
    {
      "cell_type": "code",
      "metadata": {
        "colab": {
          "base_uri": "https://localhost:8080/",
          "height": 170
        },
        "id": "s4CrOX0rRZ4P",
        "outputId": "86d38d8c-4a14-4cd6-8424-cad33e2bb4f3"
      },
      "source": [
        "dataBrasil.getStateData('DF')"
      ],
      "execution_count": null,
      "outputs": [
        {
          "output_type": "execute_result",
          "data": {
            "text/html": [
              "<div>\n",
              "<style scoped>\n",
              "    .dataframe tbody tr th:only-of-type {\n",
              "        vertical-align: middle;\n",
              "    }\n",
              "\n",
              "    .dataframe tbody tr th {\n",
              "        vertical-align: top;\n",
              "    }\n",
              "\n",
              "    .dataframe thead th {\n",
              "        text-align: right;\n",
              "    }\n",
              "</style>\n",
              "<table border=\"1\" class=\"dataframe\">\n",
              "  <thead>\n",
              "    <tr style=\"text-align: right;\">\n",
              "      <th></th>\n",
              "      <th>Município</th>\n",
              "      <th>Cód. IBGE</th>\n",
              "      <th>UF</th>\n",
              "      <th>Região</th>\n",
              "      <th>Fabricante</th>\n",
              "      <th>Doses Aplicadas</th>\n",
              "      <th>Dose 1</th>\n",
              "      <th>Dose 2</th>\n",
              "    </tr>\n",
              "  </thead>\n",
              "  <tbody>\n",
              "    <tr>\n",
              "      <th>2950</th>\n",
              "      <td>Brasília</td>\n",
              "      <td>530010</td>\n",
              "      <td>DF</td>\n",
              "      <td>Centro-Oeste</td>\n",
              "      <td>FIOCRUZ/ASTRAZENECA</td>\n",
              "      <td>1052153</td>\n",
              "      <td>715180</td>\n",
              "      <td>336973</td>\n",
              "    </tr>\n",
              "    <tr>\n",
              "      <th>2951</th>\n",
              "      <td>Brasília</td>\n",
              "      <td>530010</td>\n",
              "      <td>DF</td>\n",
              "      <td>Centro-Oeste</td>\n",
              "      <td>BUTANTAN/SINOVAC</td>\n",
              "      <td>773096</td>\n",
              "      <td>434824</td>\n",
              "      <td>338272</td>\n",
              "    </tr>\n",
              "    <tr>\n",
              "      <th>2952</th>\n",
              "      <td>Brasília</td>\n",
              "      <td>530010</td>\n",
              "      <td>DF</td>\n",
              "      <td>Centro-Oeste</td>\n",
              "      <td>PFIZER/BIONTECH</td>\n",
              "      <td>755523</td>\n",
              "      <td>727149</td>\n",
              "      <td>28374</td>\n",
              "    </tr>\n",
              "    <tr>\n",
              "      <th>2953</th>\n",
              "      <td>Brasília</td>\n",
              "      <td>530010</td>\n",
              "      <td>DF</td>\n",
              "      <td>Centro-Oeste</td>\n",
              "      <td>JANSSEN</td>\n",
              "      <td>44430</td>\n",
              "      <td>0</td>\n",
              "      <td>0</td>\n",
              "    </tr>\n",
              "  </tbody>\n",
              "</table>\n",
              "</div>"
            ],
            "text/plain": [
              "     Município  Cód. IBGE  UF  ... Doses Aplicadas  Dose 1  Dose 2\n",
              "2950  Brasília     530010  DF  ...         1052153  715180  336973\n",
              "2951  Brasília     530010  DF  ...          773096  434824  338272\n",
              "2952  Brasília     530010  DF  ...          755523  727149   28374\n",
              "2953  Brasília     530010  DF  ...           44430       0       0\n",
              "\n",
              "[4 rows x 8 columns]"
            ]
          },
          "metadata": {},
          "execution_count": 291
        }
      ]
    },
    {
      "cell_type": "code",
      "metadata": {
        "colab": {
          "base_uri": "https://localhost:8080/",
          "height": 412
        },
        "id": "albZUeUCR0ET",
        "outputId": "5991a2ad-8fb0-4c26-b133-b907827bccca"
      },
      "source": [
        "dataBrasil.getRegionData('Centro-Oeste')"
      ],
      "execution_count": null,
      "outputs": [
        {
          "output_type": "execute_result",
          "data": {
            "text/html": [
              "<div>\n",
              "<style scoped>\n",
              "    .dataframe tbody tr th:only-of-type {\n",
              "        vertical-align: middle;\n",
              "    }\n",
              "\n",
              "    .dataframe tbody tr th {\n",
              "        vertical-align: top;\n",
              "    }\n",
              "\n",
              "    .dataframe thead th {\n",
              "        text-align: right;\n",
              "    }\n",
              "</style>\n",
              "<table border=\"1\" class=\"dataframe\">\n",
              "  <thead>\n",
              "    <tr style=\"text-align: right;\">\n",
              "      <th></th>\n",
              "      <th>Município</th>\n",
              "      <th>Cód. IBGE</th>\n",
              "      <th>UF</th>\n",
              "      <th>Região</th>\n",
              "      <th>Fabricante</th>\n",
              "      <th>Doses Aplicadas</th>\n",
              "      <th>Dose 1</th>\n",
              "      <th>Dose 2</th>\n",
              "    </tr>\n",
              "  </thead>\n",
              "  <tbody>\n",
              "    <tr>\n",
              "      <th>0</th>\n",
              "      <td>Abadia De Goiás</td>\n",
              "      <td>520005</td>\n",
              "      <td>GO</td>\n",
              "      <td>Centro-Oeste</td>\n",
              "      <td>FIOCRUZ/ASTRAZENECA</td>\n",
              "      <td>3560</td>\n",
              "      <td>2633</td>\n",
              "      <td>927</td>\n",
              "    </tr>\n",
              "    <tr>\n",
              "      <th>1</th>\n",
              "      <td>Abadia De Goiás</td>\n",
              "      <td>520005</td>\n",
              "      <td>GO</td>\n",
              "      <td>Centro-Oeste</td>\n",
              "      <td>BUTANTAN/SINOVAC</td>\n",
              "      <td>3125</td>\n",
              "      <td>1682</td>\n",
              "      <td>1443</td>\n",
              "    </tr>\n",
              "    <tr>\n",
              "      <th>2</th>\n",
              "      <td>Abadia De Goiás</td>\n",
              "      <td>520005</td>\n",
              "      <td>GO</td>\n",
              "      <td>Centro-Oeste</td>\n",
              "      <td>PFIZER/BIONTECH</td>\n",
              "      <td>1297</td>\n",
              "      <td>1297</td>\n",
              "      <td>0</td>\n",
              "    </tr>\n",
              "    <tr>\n",
              "      <th>3</th>\n",
              "      <td>Abadia De Goiás</td>\n",
              "      <td>520005</td>\n",
              "      <td>GO</td>\n",
              "      <td>Centro-Oeste</td>\n",
              "      <td>JANSSEN</td>\n",
              "      <td>65</td>\n",
              "      <td>0</td>\n",
              "      <td>0</td>\n",
              "    </tr>\n",
              "    <tr>\n",
              "      <th>8</th>\n",
              "      <td>Abadiânia</td>\n",
              "      <td>520010</td>\n",
              "      <td>GO</td>\n",
              "      <td>Centro-Oeste</td>\n",
              "      <td>FIOCRUZ/ASTRAZENECA</td>\n",
              "      <td>8154</td>\n",
              "      <td>6189</td>\n",
              "      <td>1965</td>\n",
              "    </tr>\n",
              "    <tr>\n",
              "      <th>...</th>\n",
              "      <td>...</td>\n",
              "      <td>...</td>\n",
              "      <td>...</td>\n",
              "      <td>...</td>\n",
              "      <td>...</td>\n",
              "      <td>...</td>\n",
              "      <td>...</td>\n",
              "      <td>...</td>\n",
              "    </tr>\n",
              "    <tr>\n",
              "      <th>21658</th>\n",
              "      <td>Vila Propício</td>\n",
              "      <td>522230</td>\n",
              "      <td>GO</td>\n",
              "      <td>Centro-Oeste</td>\n",
              "      <td>JANSSEN</td>\n",
              "      <td>82</td>\n",
              "      <td>0</td>\n",
              "      <td>0</td>\n",
              "    </tr>\n",
              "    <tr>\n",
              "      <th>21659</th>\n",
              "      <td>Vila Rica</td>\n",
              "      <td>510860</td>\n",
              "      <td>MT</td>\n",
              "      <td>Centro-Oeste</td>\n",
              "      <td>FIOCRUZ/ASTRAZENECA</td>\n",
              "      <td>4724</td>\n",
              "      <td>3730</td>\n",
              "      <td>994</td>\n",
              "    </tr>\n",
              "    <tr>\n",
              "      <th>21660</th>\n",
              "      <td>Vila Rica</td>\n",
              "      <td>510860</td>\n",
              "      <td>MT</td>\n",
              "      <td>Centro-Oeste</td>\n",
              "      <td>BUTANTAN/SINOVAC</td>\n",
              "      <td>3655</td>\n",
              "      <td>1923</td>\n",
              "      <td>1732</td>\n",
              "    </tr>\n",
              "    <tr>\n",
              "      <th>21661</th>\n",
              "      <td>Vila Rica</td>\n",
              "      <td>510860</td>\n",
              "      <td>MT</td>\n",
              "      <td>Centro-Oeste</td>\n",
              "      <td>PFIZER/BIONTECH</td>\n",
              "      <td>2685</td>\n",
              "      <td>2677</td>\n",
              "      <td>8</td>\n",
              "    </tr>\n",
              "    <tr>\n",
              "      <th>21662</th>\n",
              "      <td>Vila Rica</td>\n",
              "      <td>510860</td>\n",
              "      <td>MT</td>\n",
              "      <td>Centro-Oeste</td>\n",
              "      <td>JANSSEN</td>\n",
              "      <td>472</td>\n",
              "      <td>0</td>\n",
              "      <td>0</td>\n",
              "    </tr>\n",
              "  </tbody>\n",
              "</table>\n",
              "<p>1861 rows × 8 columns</p>\n",
              "</div>"
            ],
            "text/plain": [
              "             Município  Cód. IBGE  UF  ... Doses Aplicadas Dose 1  Dose 2\n",
              "0      Abadia De Goiás     520005  GO  ...            3560   2633     927\n",
              "1      Abadia De Goiás     520005  GO  ...            3125   1682    1443\n",
              "2      Abadia De Goiás     520005  GO  ...            1297   1297       0\n",
              "3      Abadia De Goiás     520005  GO  ...              65      0       0\n",
              "8            Abadiânia     520010  GO  ...            8154   6189    1965\n",
              "...                ...        ...  ..  ...             ...    ...     ...\n",
              "21658    Vila Propício     522230  GO  ...              82      0       0\n",
              "21659        Vila Rica     510860  MT  ...            4724   3730     994\n",
              "21660        Vila Rica     510860  MT  ...            3655   1923    1732\n",
              "21661        Vila Rica     510860  MT  ...            2685   2677       8\n",
              "21662        Vila Rica     510860  MT  ...             472      0       0\n",
              "\n",
              "[1861 rows x 8 columns]"
            ]
          },
          "metadata": {},
          "execution_count": 293
        }
      ]
    },
    {
      "cell_type": "code",
      "metadata": {
        "id": "QBBtCePpstJJ"
      },
      "source": [
        "class Stats:\n",
        "  def __init__(self , dataFrame):\n",
        "    self._dataFrame = dataFrame\n",
        "    self._totalData = dataFrame.getTotalData()\n",
        "\n",
        "  def getFirstDose(self):\n",
        "      firstDose = self._totalData['Dose 1']\n",
        "      return( f'O total de primeiras doses aplicadas no {self._dataFrame.country} foi {sum(firstDose)}')\n",
        "\n",
        "  def getSecondDose(self):\n",
        "      secondDose = self._totalData['Dose 2']\n",
        "      return  (f'O total de segundas doses aplicadas no {self._dataFrame.country} foi {sum(secondDose)}')\n",
        "\n",
        "\n",
        "  def getStateFirstDose(self, state):\n",
        "      stateFirstDose = self._dataFrame.getStateData(f'{state}')['Dose 1']\n",
        "      return f'O total de primeiras doses aplicadas no {state} foi {sum(stateFirstDose)}'\n",
        "      \n",
        "  def getStateSecondDose(self, state):\n",
        "      stateSecondDose = self._dataFrame.getStateData(f'{state}')['Dose 2']\n",
        "      print(f'O total de segundas doses aplicadas no {state} foi {sum(stateSecondDose)}')\n",
        "      return sum(stateSecondDose)\n",
        "\n",
        "  def mostVacCity(self , state):\n",
        "      sumVacCity = self._dataFrame.getStateData(f'{state}')[['Município' , 'Dose 2']].groupby('Município' , as_index=False).sum()\n",
        "      mostVaccinated = sumVacCity.loc[sumVacCity['Dose 2'] == sumVacCity['Dose 2'].max()]\n",
        "      return mostVaccinated\n",
        "  \n",
        "  def leastVacCity(self , state):\n",
        "      sumVacCity = self._dataFrame.getStateData(f'{state}')[['Município'  , 'Dose 2']].groupby('Município' , as_index=False ).sum()\n",
        "      leastVaccinated = sumVacCity.loc[sumVacCity['Dose 2'] == sumVacCity['Dose 2'].min()]\n",
        "      return leastVaccinated\n",
        "\n",
        "  def getPopularVac(self , state):\n",
        "      sumVaccines = self._dataFrame.getStateData(f'{state}')[['Fabricante' , 'Doses Aplicadas']].groupby('Fabricante' , as_index=False).sum()\n",
        "      popularVaccine = sumVaccines.loc[sumVaccines['Doses Aplicadas'] == sumVaccines['Doses Aplicadas'].max()]\n",
        "      return popularVaccine\n",
        "\n",
        "\n",
        "  def meanStates(self):\n",
        "      meanStates = self._totalData.groupby(['UF' , 'Município'] , as_index=False).agg({'Dose 2': 'sum'}).groupby(['UF'] , as_index=False).mean()\n",
        "      return meanStates\n",
        "\n",
        "  def getVacCapitals(self):\n",
        "      capitals = ['Porto Velho' , 'Manaus' , 'Rio Branco' , 'Campo Grande' , 'Macapá' ,'Brasília' , \n",
        "      'Boa Vista' , 'Cuiabá' , 'Palmas' , 'São Paulo' , 'Teresina' , 'Rio de Janeiro' , 'Belém' , \n",
        "      'Goiânia' , 'Salvador' , 'Florianópolis' , 'São Luís' , 'Maceió' , 'Porto Alegre' ,\n",
        "     'Curitiba' , 'Belo Horizonte' , 'Fortaleza' , 'Recife' , 'João Pessoa' , 'Aracaju' , 'Natal' , 'Vítoria']\n",
        "\n",
        "      data = self._totalData.loc[self._totalData['Município'].isin(capitals)]\n",
        "      vacCapitals = data.groupby('Município', as_index=False).sum()\n",
        "      return vacCapitals[['Município' , 'Dose 1' , 'Dose 2']]\n",
        "\n",
        "  def getVacRegion(self):\n",
        "      sumVacRegion = self._totalData[['Região' , 'Doses Aplicadas']].groupby('Região' , as_index=False).sum()\n",
        "      return sumVacRegion\n",
        "\n",
        "  def getVacTown(self , region):\n",
        "      sumVacTown = self._dataFrame.getRegionData(f'{region}')[['Município' , 'Doses Aplicadas']].groupby('Município' , as_index=False).sum()\n",
        "      mostVaccinated = sumVacTown.loc[sumVacTown['Doses Aplicadas'] == sumVacTown['Doses Aplicadas'].max()]\n",
        "      return mostVaccinated\n",
        "        \n"
      ],
      "execution_count": null,
      "outputs": []
    },
    {
      "cell_type": "code",
      "metadata": {
        "id": "BLJlxLgpSBIL"
      },
      "source": [
        "statsBrasil = Stats(dataBrasil)"
      ],
      "execution_count": null,
      "outputs": []
    },
    {
      "cell_type": "code",
      "metadata": {
        "colab": {
          "base_uri": "https://localhost:8080/",
          "height": 36
        },
        "id": "NHw2h8-vSKJ0",
        "outputId": "99b342c5-a1b5-4d0a-8566-4d7bfff8e09a"
      },
      "source": [
        "statsBrasil.getFirstDose()"
      ],
      "execution_count": null,
      "outputs": [
        {
          "output_type": "execute_result",
          "data": {
            "application/vnd.google.colaboratory.intrinsic+json": {
              "type": "string"
            },
            "text/plain": [
              "'O total de primeiras doses aplicadas no Brasil foi 124791669'"
            ]
          },
          "metadata": {},
          "execution_count": 296
        }
      ]
    },
    {
      "cell_type": "code",
      "metadata": {
        "colab": {
          "base_uri": "https://localhost:8080/",
          "height": 36
        },
        "id": "j7EqsXoyTAfU",
        "outputId": "be4c3d53-390c-4566-862a-09fe836320c5"
      },
      "source": [
        "statsBrasil.getSecondDose()"
      ],
      "execution_count": null,
      "outputs": [
        {
          "output_type": "execute_result",
          "data": {
            "application/vnd.google.colaboratory.intrinsic+json": {
              "type": "string"
            },
            "text/plain": [
              "'O total de segundas doses aplicadas no Brasil foi 53456720'"
            ]
          },
          "metadata": {},
          "execution_count": 297
        }
      ]
    },
    {
      "cell_type": "code",
      "metadata": {
        "colab": {
          "base_uri": "https://localhost:8080/",
          "height": 36
        },
        "id": "hSPBnCwBTFut",
        "outputId": "c78cf575-521e-4f83-f260-e1edb6dbca88"
      },
      "source": [
        "statsBrasil.getStateFirstDose('BA')"
      ],
      "execution_count": null,
      "outputs": [
        {
          "output_type": "execute_result",
          "data": {
            "application/vnd.google.colaboratory.intrinsic+json": {
              "type": "string"
            },
            "text/plain": [
              "'O total de primeiras doses aplicadas no BA foi 7524665'"
            ]
          },
          "metadata": {},
          "execution_count": 298
        }
      ]
    },
    {
      "cell_type": "code",
      "metadata": {
        "colab": {
          "base_uri": "https://localhost:8080/"
        },
        "id": "2hwkChgPTx6t",
        "outputId": "4db211f8-fb8f-40eb-b082-9fd34d3150a5"
      },
      "source": [
        "statsBrasil.getStateSecondDose('DF')"
      ],
      "execution_count": null,
      "outputs": [
        {
          "output_type": "stream",
          "name": "stdout",
          "text": [
            "O total de segundas doses aplicadas no DF foi 703619\n"
          ]
        },
        {
          "output_type": "execute_result",
          "data": {
            "text/plain": [
              "703619"
            ]
          },
          "metadata": {},
          "execution_count": 299
        }
      ]
    },
    {
      "cell_type": "code",
      "metadata": {
        "colab": {
          "base_uri": "https://localhost:8080/",
          "height": 79
        },
        "id": "DzGPi3v7US6G",
        "outputId": "130491f8-0b43-474a-fd9c-2a442851939e"
      },
      "source": [
        "statsBrasil.mostVacCity('BA')"
      ],
      "execution_count": null,
      "outputs": [
        {
          "output_type": "execute_result",
          "data": {
            "text/html": [
              "<div>\n",
              "<style scoped>\n",
              "    .dataframe tbody tr th:only-of-type {\n",
              "        vertical-align: middle;\n",
              "    }\n",
              "\n",
              "    .dataframe tbody tr th {\n",
              "        vertical-align: top;\n",
              "    }\n",
              "\n",
              "    .dataframe thead th {\n",
              "        text-align: right;\n",
              "    }\n",
              "</style>\n",
              "<table border=\"1\" class=\"dataframe\">\n",
              "  <thead>\n",
              "    <tr style=\"text-align: right;\">\n",
              "      <th></th>\n",
              "      <th>Município</th>\n",
              "      <th>Dose 2</th>\n",
              "    </tr>\n",
              "  </thead>\n",
              "  <tbody>\n",
              "    <tr>\n",
              "      <th>333</th>\n",
              "      <td>Salvador</td>\n",
              "      <td>764388</td>\n",
              "    </tr>\n",
              "  </tbody>\n",
              "</table>\n",
              "</div>"
            ],
            "text/plain": [
              "    Município  Dose 2\n",
              "333  Salvador  764388"
            ]
          },
          "metadata": {},
          "execution_count": 300
        }
      ]
    },
    {
      "cell_type": "code",
      "metadata": {
        "colab": {
          "base_uri": "https://localhost:8080/",
          "height": 79
        },
        "id": "DS1X-5ZkUe49",
        "outputId": "566dfafb-c731-4eec-896d-0887b52e36b2"
      },
      "source": [
        "statsBrasil.leastVacCity('BA')"
      ],
      "execution_count": null,
      "outputs": [
        {
          "output_type": "execute_result",
          "data": {
            "text/html": [
              "<div>\n",
              "<style scoped>\n",
              "    .dataframe tbody tr th:only-of-type {\n",
              "        vertical-align: middle;\n",
              "    }\n",
              "\n",
              "    .dataframe tbody tr th {\n",
              "        vertical-align: top;\n",
              "    }\n",
              "\n",
              "    .dataframe thead th {\n",
              "        text-align: right;\n",
              "    }\n",
              "</style>\n",
              "<table border=\"1\" class=\"dataframe\">\n",
              "  <thead>\n",
              "    <tr style=\"text-align: right;\">\n",
              "      <th></th>\n",
              "      <th>Município</th>\n",
              "      <th>Dose 2</th>\n",
              "    </tr>\n",
              "  </thead>\n",
              "  <tbody>\n",
              "    <tr>\n",
              "      <th>176</th>\n",
              "      <td>Itaeté</td>\n",
              "      <td>107</td>\n",
              "    </tr>\n",
              "  </tbody>\n",
              "</table>\n",
              "</div>"
            ],
            "text/plain": [
              "    Município  Dose 2\n",
              "176    Itaeté     107"
            ]
          },
          "metadata": {},
          "execution_count": 301
        }
      ]
    },
    {
      "cell_type": "code",
      "metadata": {
        "colab": {
          "base_uri": "https://localhost:8080/",
          "height": 79
        },
        "id": "rZl0cwBbUxL0",
        "outputId": "a8b44d45-e211-4e8f-82dd-cedf66be2a07"
      },
      "source": [
        "statsBrasil.getPopularVac('BA')"
      ],
      "execution_count": null,
      "outputs": [
        {
          "output_type": "execute_result",
          "data": {
            "text/html": [
              "<div>\n",
              "<style scoped>\n",
              "    .dataframe tbody tr th:only-of-type {\n",
              "        vertical-align: middle;\n",
              "    }\n",
              "\n",
              "    .dataframe tbody tr th {\n",
              "        vertical-align: top;\n",
              "    }\n",
              "\n",
              "    .dataframe thead th {\n",
              "        text-align: right;\n",
              "    }\n",
              "</style>\n",
              "<table border=\"1\" class=\"dataframe\">\n",
              "  <thead>\n",
              "    <tr style=\"text-align: right;\">\n",
              "      <th></th>\n",
              "      <th>Fabricante</th>\n",
              "      <th>Doses Aplicadas</th>\n",
              "    </tr>\n",
              "  </thead>\n",
              "  <tbody>\n",
              "    <tr>\n",
              "      <th>1</th>\n",
              "      <td>FIOCRUZ/ASTRAZENECA</td>\n",
              "      <td>4979409</td>\n",
              "    </tr>\n",
              "  </tbody>\n",
              "</table>\n",
              "</div>"
            ],
            "text/plain": [
              "            Fabricante  Doses Aplicadas\n",
              "1  FIOCRUZ/ASTRAZENECA          4979409"
            ]
          },
          "metadata": {},
          "execution_count": 302
        }
      ]
    },
    {
      "cell_type": "code",
      "metadata": {
        "colab": {
          "base_uri": "https://localhost:8080/",
          "height": 870
        },
        "id": "WrLdKe-yVOWH",
        "outputId": "af7e6411-b69c-4bca-df44-0fa40ed6f487"
      },
      "source": [
        "statsBrasil.meanStates()"
      ],
      "execution_count": null,
      "outputs": [
        {
          "output_type": "execute_result",
          "data": {
            "text/html": [
              "<div>\n",
              "<style scoped>\n",
              "    .dataframe tbody tr th:only-of-type {\n",
              "        vertical-align: middle;\n",
              "    }\n",
              "\n",
              "    .dataframe tbody tr th {\n",
              "        vertical-align: top;\n",
              "    }\n",
              "\n",
              "    .dataframe thead th {\n",
              "        text-align: right;\n",
              "    }\n",
              "</style>\n",
              "<table border=\"1\" class=\"dataframe\">\n",
              "  <thead>\n",
              "    <tr style=\"text-align: right;\">\n",
              "      <th></th>\n",
              "      <th>UF</th>\n",
              "      <th>Dose 2</th>\n",
              "    </tr>\n",
              "  </thead>\n",
              "  <tbody>\n",
              "    <tr>\n",
              "      <th>0</th>\n",
              "      <td>AC</td>\n",
              "      <td>8807.227273</td>\n",
              "    </tr>\n",
              "    <tr>\n",
              "      <th>1</th>\n",
              "      <td>AL</td>\n",
              "      <td>7478.823529</td>\n",
              "    </tr>\n",
              "    <tr>\n",
              "      <th>2</th>\n",
              "      <td>AM</td>\n",
              "      <td>12112.145161</td>\n",
              "    </tr>\n",
              "    <tr>\n",
              "      <th>3</th>\n",
              "      <td>AP</td>\n",
              "      <td>7688.250000</td>\n",
              "    </tr>\n",
              "    <tr>\n",
              "      <th>4</th>\n",
              "      <td>BA</td>\n",
              "      <td>7230.103118</td>\n",
              "    </tr>\n",
              "    <tr>\n",
              "      <th>5</th>\n",
              "      <td>CE</td>\n",
              "      <td>8312.603261</td>\n",
              "    </tr>\n",
              "    <tr>\n",
              "      <th>6</th>\n",
              "      <td>DF</td>\n",
              "      <td>703619.000000</td>\n",
              "    </tr>\n",
              "    <tr>\n",
              "      <th>7</th>\n",
              "      <td>ES</td>\n",
              "      <td>15208.500000</td>\n",
              "    </tr>\n",
              "    <tr>\n",
              "      <th>8</th>\n",
              "      <td>GO</td>\n",
              "      <td>6602.739837</td>\n",
              "    </tr>\n",
              "    <tr>\n",
              "      <th>9</th>\n",
              "      <td>MA</td>\n",
              "      <td>6372.986175</td>\n",
              "    </tr>\n",
              "    <tr>\n",
              "      <th>10</th>\n",
              "      <td>MG</td>\n",
              "      <td>5818.446659</td>\n",
              "    </tr>\n",
              "    <tr>\n",
              "      <th>11</th>\n",
              "      <td>MS</td>\n",
              "      <td>12525.101266</td>\n",
              "    </tr>\n",
              "    <tr>\n",
              "      <th>12</th>\n",
              "      <td>MT</td>\n",
              "      <td>5118.049645</td>\n",
              "    </tr>\n",
              "    <tr>\n",
              "      <th>13</th>\n",
              "      <td>PA</td>\n",
              "      <td>9324.062500</td>\n",
              "    </tr>\n",
              "    <tr>\n",
              "      <th>14</th>\n",
              "      <td>PB</td>\n",
              "      <td>4082.125561</td>\n",
              "    </tr>\n",
              "    <tr>\n",
              "      <th>15</th>\n",
              "      <td>PE</td>\n",
              "      <td>10719.383784</td>\n",
              "    </tr>\n",
              "    <tr>\n",
              "      <th>16</th>\n",
              "      <td>PI</td>\n",
              "      <td>3257.075893</td>\n",
              "    </tr>\n",
              "    <tr>\n",
              "      <th>17</th>\n",
              "      <td>PR</td>\n",
              "      <td>7501.914787</td>\n",
              "    </tr>\n",
              "    <tr>\n",
              "      <th>18</th>\n",
              "      <td>RJ</td>\n",
              "      <td>49927.826087</td>\n",
              "    </tr>\n",
              "    <tr>\n",
              "      <th>19</th>\n",
              "      <td>RN</td>\n",
              "      <td>4973.946108</td>\n",
              "    </tr>\n",
              "    <tr>\n",
              "      <th>20</th>\n",
              "      <td>RO</td>\n",
              "      <td>6968.980769</td>\n",
              "    </tr>\n",
              "    <tr>\n",
              "      <th>21</th>\n",
              "      <td>RR</td>\n",
              "      <td>5705.066667</td>\n",
              "    </tr>\n",
              "    <tr>\n",
              "      <th>22</th>\n",
              "      <td>RS</td>\n",
              "      <td>7600.778672</td>\n",
              "    </tr>\n",
              "    <tr>\n",
              "      <th>23</th>\n",
              "      <td>SC</td>\n",
              "      <td>6622.854237</td>\n",
              "    </tr>\n",
              "    <tr>\n",
              "      <th>24</th>\n",
              "      <td>SE</td>\n",
              "      <td>5381.773333</td>\n",
              "    </tr>\n",
              "    <tr>\n",
              "      <th>25</th>\n",
              "      <td>SP</td>\n",
              "      <td>23607.770543</td>\n",
              "    </tr>\n",
              "    <tr>\n",
              "      <th>26</th>\n",
              "      <td>TO</td>\n",
              "      <td>2283.935252</td>\n",
              "    </tr>\n",
              "  </tbody>\n",
              "</table>\n",
              "</div>"
            ],
            "text/plain": [
              "    UF         Dose 2\n",
              "0   AC    8807.227273\n",
              "1   AL    7478.823529\n",
              "2   AM   12112.145161\n",
              "3   AP    7688.250000\n",
              "4   BA    7230.103118\n",
              "5   CE    8312.603261\n",
              "6   DF  703619.000000\n",
              "7   ES   15208.500000\n",
              "8   GO    6602.739837\n",
              "9   MA    6372.986175\n",
              "10  MG    5818.446659\n",
              "11  MS   12525.101266\n",
              "12  MT    5118.049645\n",
              "13  PA    9324.062500\n",
              "14  PB    4082.125561\n",
              "15  PE   10719.383784\n",
              "16  PI    3257.075893\n",
              "17  PR    7501.914787\n",
              "18  RJ   49927.826087\n",
              "19  RN    4973.946108\n",
              "20  RO    6968.980769\n",
              "21  RR    5705.066667\n",
              "22  RS    7600.778672\n",
              "23  SC    6622.854237\n",
              "24  SE    5381.773333\n",
              "25  SP   23607.770543\n",
              "26  TO    2283.935252"
            ]
          },
          "metadata": {},
          "execution_count": 333
        }
      ]
    },
    {
      "cell_type": "code",
      "metadata": {
        "colab": {
          "base_uri": "https://localhost:8080/",
          "height": 810
        },
        "id": "OG_5qkOPVj6-",
        "outputId": "a6bafe7e-704e-44cf-f6e8-8cc9004d2d7c"
      },
      "source": [
        "statsBrasil.getVacCapitals()"
      ],
      "execution_count": null,
      "outputs": [
        {
          "output_type": "execute_result",
          "data": {
            "text/html": [
              "<div>\n",
              "<style scoped>\n",
              "    .dataframe tbody tr th:only-of-type {\n",
              "        vertical-align: middle;\n",
              "    }\n",
              "\n",
              "    .dataframe tbody tr th {\n",
              "        vertical-align: top;\n",
              "    }\n",
              "\n",
              "    .dataframe thead th {\n",
              "        text-align: right;\n",
              "    }\n",
              "</style>\n",
              "<table border=\"1\" class=\"dataframe\">\n",
              "  <thead>\n",
              "    <tr style=\"text-align: right;\">\n",
              "      <th></th>\n",
              "      <th>Município</th>\n",
              "      <th>Dose 1</th>\n",
              "      <th>Dose 2</th>\n",
              "    </tr>\n",
              "  </thead>\n",
              "  <tbody>\n",
              "    <tr>\n",
              "      <th>0</th>\n",
              "      <td>Aracaju</td>\n",
              "      <td>424739</td>\n",
              "      <td>161945</td>\n",
              "    </tr>\n",
              "    <tr>\n",
              "      <th>1</th>\n",
              "      <td>Belo Horizonte</td>\n",
              "      <td>1771165</td>\n",
              "      <td>884648</td>\n",
              "    </tr>\n",
              "    <tr>\n",
              "      <th>2</th>\n",
              "      <td>Belém</td>\n",
              "      <td>908446</td>\n",
              "      <td>378282</td>\n",
              "    </tr>\n",
              "    <tr>\n",
              "      <th>3</th>\n",
              "      <td>Boa Vista</td>\n",
              "      <td>205079</td>\n",
              "      <td>54790</td>\n",
              "    </tr>\n",
              "    <tr>\n",
              "      <th>4</th>\n",
              "      <td>Brasília</td>\n",
              "      <td>1877153</td>\n",
              "      <td>703619</td>\n",
              "    </tr>\n",
              "    <tr>\n",
              "      <th>5</th>\n",
              "      <td>Campo Grande</td>\n",
              "      <td>662068</td>\n",
              "      <td>369122</td>\n",
              "    </tr>\n",
              "    <tr>\n",
              "      <th>6</th>\n",
              "      <td>Cuiabá</td>\n",
              "      <td>359134</td>\n",
              "      <td>157458</td>\n",
              "    </tr>\n",
              "    <tr>\n",
              "      <th>7</th>\n",
              "      <td>Curitiba</td>\n",
              "      <td>1282445</td>\n",
              "      <td>588190</td>\n",
              "    </tr>\n",
              "    <tr>\n",
              "      <th>8</th>\n",
              "      <td>Florianópolis</td>\n",
              "      <td>387911</td>\n",
              "      <td>187575</td>\n",
              "    </tr>\n",
              "    <tr>\n",
              "      <th>9</th>\n",
              "      <td>Fortaleza</td>\n",
              "      <td>1957245</td>\n",
              "      <td>751850</td>\n",
              "    </tr>\n",
              "    <tr>\n",
              "      <th>10</th>\n",
              "      <td>Goiânia</td>\n",
              "      <td>902941</td>\n",
              "      <td>420410</td>\n",
              "    </tr>\n",
              "    <tr>\n",
              "      <th>11</th>\n",
              "      <td>João Pessoa</td>\n",
              "      <td>532328</td>\n",
              "      <td>232081</td>\n",
              "    </tr>\n",
              "    <tr>\n",
              "      <th>12</th>\n",
              "      <td>Macapá</td>\n",
              "      <td>241805</td>\n",
              "      <td>70450</td>\n",
              "    </tr>\n",
              "    <tr>\n",
              "      <th>13</th>\n",
              "      <td>Maceió</td>\n",
              "      <td>629224</td>\n",
              "      <td>277058</td>\n",
              "    </tr>\n",
              "    <tr>\n",
              "      <th>14</th>\n",
              "      <td>Manaus</td>\n",
              "      <td>1430850</td>\n",
              "      <td>442323</td>\n",
              "    </tr>\n",
              "    <tr>\n",
              "      <th>15</th>\n",
              "      <td>Natal</td>\n",
              "      <td>543699</td>\n",
              "      <td>222291</td>\n",
              "    </tr>\n",
              "    <tr>\n",
              "      <th>16</th>\n",
              "      <td>Palmas</td>\n",
              "      <td>205847</td>\n",
              "      <td>72336</td>\n",
              "    </tr>\n",
              "    <tr>\n",
              "      <th>17</th>\n",
              "      <td>Porto Alegre</td>\n",
              "      <td>1012012</td>\n",
              "      <td>604620</td>\n",
              "    </tr>\n",
              "    <tr>\n",
              "      <th>18</th>\n",
              "      <td>Porto Velho</td>\n",
              "      <td>306329</td>\n",
              "      <td>118020</td>\n",
              "    </tr>\n",
              "    <tr>\n",
              "      <th>19</th>\n",
              "      <td>Recife</td>\n",
              "      <td>957955</td>\n",
              "      <td>396141</td>\n",
              "    </tr>\n",
              "    <tr>\n",
              "      <th>20</th>\n",
              "      <td>Rio Branco</td>\n",
              "      <td>227901</td>\n",
              "      <td>82527</td>\n",
              "    </tr>\n",
              "    <tr>\n",
              "      <th>21</th>\n",
              "      <td>Salvador</td>\n",
              "      <td>1789090</td>\n",
              "      <td>764388</td>\n",
              "    </tr>\n",
              "    <tr>\n",
              "      <th>22</th>\n",
              "      <td>São Luís</td>\n",
              "      <td>806928</td>\n",
              "      <td>327917</td>\n",
              "    </tr>\n",
              "    <tr>\n",
              "      <th>23</th>\n",
              "      <td>São Paulo</td>\n",
              "      <td>9428542</td>\n",
              "      <td>4599633</td>\n",
              "    </tr>\n",
              "    <tr>\n",
              "      <th>24</th>\n",
              "      <td>Teresina</td>\n",
              "      <td>523176</td>\n",
              "      <td>233527</td>\n",
              "    </tr>\n",
              "  </tbody>\n",
              "</table>\n",
              "</div>"
            ],
            "text/plain": [
              "         Município   Dose 1   Dose 2\n",
              "0          Aracaju   424739   161945\n",
              "1   Belo Horizonte  1771165   884648\n",
              "2            Belém   908446   378282\n",
              "3        Boa Vista   205079    54790\n",
              "4         Brasília  1877153   703619\n",
              "5     Campo Grande   662068   369122\n",
              "6           Cuiabá   359134   157458\n",
              "7         Curitiba  1282445   588190\n",
              "8    Florianópolis   387911   187575\n",
              "9        Fortaleza  1957245   751850\n",
              "10         Goiânia   902941   420410\n",
              "11     João Pessoa   532328   232081\n",
              "12          Macapá   241805    70450\n",
              "13          Maceió   629224   277058\n",
              "14          Manaus  1430850   442323\n",
              "15           Natal   543699   222291\n",
              "16          Palmas   205847    72336\n",
              "17    Porto Alegre  1012012   604620\n",
              "18     Porto Velho   306329   118020\n",
              "19          Recife   957955   396141\n",
              "20      Rio Branco   227901    82527\n",
              "21        Salvador  1789090   764388\n",
              "22        São Luís   806928   327917\n",
              "23       São Paulo  9428542  4599633\n",
              "24        Teresina   523176   233527"
            ]
          },
          "metadata": {},
          "execution_count": 304
        }
      ]
    },
    {
      "cell_type": "code",
      "metadata": {
        "colab": {
          "base_uri": "https://localhost:8080/",
          "height": 201
        },
        "id": "Ve28pBHbXVEb",
        "outputId": "0caec069-9033-46d1-d3b8-ada3441e1fe8"
      },
      "source": [
        "statsBrasil.getVacRegion()"
      ],
      "execution_count": null,
      "outputs": [
        {
          "output_type": "execute_result",
          "data": {
            "text/html": [
              "<div>\n",
              "<style scoped>\n",
              "    .dataframe tbody tr th:only-of-type {\n",
              "        vertical-align: middle;\n",
              "    }\n",
              "\n",
              "    .dataframe tbody tr th {\n",
              "        vertical-align: top;\n",
              "    }\n",
              "\n",
              "    .dataframe thead th {\n",
              "        text-align: right;\n",
              "    }\n",
              "</style>\n",
              "<table border=\"1\" class=\"dataframe\">\n",
              "  <thead>\n",
              "    <tr style=\"text-align: right;\">\n",
              "      <th></th>\n",
              "      <th>Região</th>\n",
              "      <th>Doses Aplicadas</th>\n",
              "    </tr>\n",
              "  </thead>\n",
              "  <tbody>\n",
              "    <tr>\n",
              "      <th>0</th>\n",
              "      <td>Centro-Oeste</td>\n",
              "      <td>14310155</td>\n",
              "    </tr>\n",
              "    <tr>\n",
              "      <th>1</th>\n",
              "      <td>Nordeste</td>\n",
              "      <td>41069429</td>\n",
              "    </tr>\n",
              "    <tr>\n",
              "      <th>2</th>\n",
              "      <td>Norte</td>\n",
              "      <td>12215097</td>\n",
              "    </tr>\n",
              "    <tr>\n",
              "      <th>3</th>\n",
              "      <td>Sudeste</td>\n",
              "      <td>85729863</td>\n",
              "    </tr>\n",
              "    <tr>\n",
              "      <th>4</th>\n",
              "      <td>Sul</td>\n",
              "      <td>29198955</td>\n",
              "    </tr>\n",
              "  </tbody>\n",
              "</table>\n",
              "</div>"
            ],
            "text/plain": [
              "         Região  Doses Aplicadas\n",
              "0  Centro-Oeste         14310155\n",
              "1      Nordeste         41069429\n",
              "2         Norte         12215097\n",
              "3       Sudeste         85729863\n",
              "4           Sul         29198955"
            ]
          },
          "metadata": {},
          "execution_count": 305
        }
      ]
    },
    {
      "cell_type": "code",
      "metadata": {
        "colab": {
          "base_uri": "https://localhost:8080/",
          "height": 79
        },
        "id": "3Dbgbq63Xo8S",
        "outputId": "f03c28e1-11b9-4305-d98b-c61c455f824a"
      },
      "source": [
        "statsBrasil.getVacTown('Sul')"
      ],
      "execution_count": null,
      "outputs": [
        {
          "output_type": "execute_result",
          "data": {
            "text/html": [
              "<div>\n",
              "<style scoped>\n",
              "    .dataframe tbody tr th:only-of-type {\n",
              "        vertical-align: middle;\n",
              "    }\n",
              "\n",
              "    .dataframe tbody tr th {\n",
              "        vertical-align: top;\n",
              "    }\n",
              "\n",
              "    .dataframe thead th {\n",
              "        text-align: right;\n",
              "    }\n",
              "</style>\n",
              "<table border=\"1\" class=\"dataframe\">\n",
              "  <thead>\n",
              "    <tr style=\"text-align: right;\">\n",
              "      <th></th>\n",
              "      <th>Município</th>\n",
              "      <th>Doses Aplicadas</th>\n",
              "    </tr>\n",
              "  </thead>\n",
              "  <tbody>\n",
              "    <tr>\n",
              "      <th>285</th>\n",
              "      <td>Curitiba</td>\n",
              "      <td>1907532</td>\n",
              "    </tr>\n",
              "  </tbody>\n",
              "</table>\n",
              "</div>"
            ],
            "text/plain": [
              "    Município  Doses Aplicadas\n",
              "285  Curitiba          1907532"
            ]
          },
          "metadata": {},
          "execution_count": 308
        }
      ]
    },
    {
      "cell_type": "code",
      "metadata": {
        "id": "b9N7BcfNqVvb"
      },
      "source": [
        "class Graph(Stats):\n",
        "  \n",
        "  def __init__(self , dataframe , stats):\n",
        "        super().__init__(dataframe) \n",
        "        self._stats = stats\n",
        "                \n",
        "  def getStates(self):\n",
        "        states = self._stats.meanStates()['UF']\n",
        "        mean = self._stats.meanStates()['Dose 2']\n",
        "        \n",
        "        plt.figure(figsize=(30 , 7))\n",
        "        plt.bar(states , mean , color='#25FA00' , width=0.25)\n",
        "\n",
        "       \n",
        "        plt.xlabel('Estados')\n",
        "        plt.ylabel('Média')\n",
        "        plt.title('Média de 2º doses por estado')\n",
        "\n",
        "        plt.show()    \n",
        "\n",
        "  def getCapitals(self):\n",
        "        capitals = self._stats.getVacCapitals()['Município']\n",
        "        dose1 = self._stats.getVacCapitals()['Dose 1']\n",
        "        dose2 = self._stats.getVacCapitals()['Dose 2']\n",
        "\n",
        "        #largura das barrs\n",
        "        barWidth = 0.25\n",
        "\n",
        "        #tamaho do grafico\n",
        "        plt.figure(figsize=(30 , 7))\n",
        "\n",
        "\n",
        "        #posicao das barras\n",
        "        x1 = np.arange(len(dose1))\n",
        "        x2 = [x + barWidth for x in x1]\n",
        "\n",
        "\n",
        "        # criando as barras\n",
        "        plt.bar(x1 , dose1 , color='#0DFFF3' , width=barWidth , label='Dose 1')\n",
        "        plt.bar(x2 , dose2 , color='#FA3600' , width=barWidth , label='Dose 2')\n",
        "\n",
        "\n",
        "        # legendas\n",
        "        plt.xlabel('Capitais')\n",
        "        plt.xticks([x + barWidth for x in range(len(dose1))], capitals)\n",
        "        plt.ylabel('Doses')\n",
        "        plt.title('Total de 1º e 2º doses nas capitais')\n",
        "\n",
        "        plt.legend()\n",
        "        plt.show()\n",
        "\n",
        "\n",
        "  def getRegion(self):\n",
        "        totaldoses = self._stats.getVacRegion()['Doses Aplicadas']\n",
        "        regions = self._stats.getVacRegion()['Região']\n",
        "\n",
        "        explode = (0.1, 0.1, 0.1, 0.1 , 0.1) \n",
        "\n",
        "\n",
        "        colors = ['#FA9F00' ,'#FF0700' , '#26FF00' ,'#FF00F6' , '#01F5CC']\n",
        "\n",
        "        plt.figure(figsize=(10 , 10))\n",
        "\n",
        "        plt.pie(totaldoses , labels=regions , shadow=True , explode=explode , colors=colors ,autopct='%1.1f%%')\n",
        "        plt.show()\n"
      ],
      "execution_count": null,
      "outputs": []
    },
    {
      "cell_type": "code",
      "metadata": {
        "id": "dGJOM1jvwuS9"
      },
      "source": [
        "graphBrasil = Graph(dataBrasil , StatsBrasil)"
      ],
      "execution_count": null,
      "outputs": []
    },
    {
      "cell_type": "code",
      "metadata": {
        "colab": {
          "base_uri": "https://localhost:8080/",
          "height": 430
        },
        "id": "3a2i7qV3w_oo",
        "outputId": "06d450ad-f347-4c84-8e0a-6b0c31382293"
      },
      "source": [
        "graphBrasil.getStates()"
      ],
      "execution_count": null,
      "outputs": [
        {
          "output_type": "display_data",
          "data": {
            "image/png": "[encoded data removed]",
            "text/plain": [
              "<Figure size 2160x504 with 1 Axes>"
            ]
          },
          "metadata": {
            "needs_background": "light"
          }
        }
      ]
    },
    {
      "cell_type": "code",
      "metadata": {
        "colab": {
          "base_uri": "https://localhost:8080/",
          "height": 438
        },
        "id": "1yImvq754nVG",
        "outputId": "8e98a895-fc63-4ef1-9e81-86627daee5ac"
      },
      "source": [
        "graphBrasil.getCapitals()"
      ],
      "execution_count": null,
      "outputs": [
        {
          "output_type": "display_data",
          "data": {
            "image/png": "[encoded data removed]",
            "text/plain": [
              "<Figure size 2160x504 with 1 Axes>"
            ]
          },
          "metadata": {
            "needs_background": "light"
          }
        }
      ]
    },
    {
      "cell_type": "code",
      "metadata": {
        "colab": {
          "base_uri": "https://localhost:8080/",
          "height": 575
        },
        "id": "zg0xKwMF9VeH",
        "outputId": "e2588402-2947-4c1b-8438-48afde9ce03f"
      },
      "source": [
        "graphBrasil.getRegion()"
      ],
      "execution_count": null,
      "outputs": [
        {
          "output_type": "display_data",
          "data": {
            "image/png": "[encoded data removed]",
            "text/plain": [
              "<Figure size 720x720 with 1 Axes>"
            ]
          },
          "metadata": {}
        }
      ]
    }
  ]
}